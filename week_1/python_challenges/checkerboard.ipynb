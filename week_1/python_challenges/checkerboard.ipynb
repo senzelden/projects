{
 "cells": [
  {
   "cell_type": "markdown",
   "metadata": {},
   "source": [
    "The task is to write a checkerboard with a single print statement.\n",
    "**String concatenation** is very useful here."
   ]
  },
  {
   "cell_type": "code",
   "execution_count": 12,
   "metadata": {},
   "outputs": [
    {
     "name": "stdout",
     "output_type": "stream",
     "text": [
      "#_#_#_#_\n",
      "_#_#_#_#\n",
      "#_#_#_#_\n",
      "_#_#_#_#\n",
      "\n"
     ]
    }
   ],
   "source": [
    "# don't use the '=' operator\n",
    "print(2*(((4 * '#_') + '\\n') + ((4 * '_#') + '\\n')))"
   ]
  },
  {
   "cell_type": "code",
   "execution_count": 13,
   "metadata": {},
   "outputs": [
    {
     "name": "stdout",
     "output_type": "stream",
     "text": [
      "#_#_#_#_\n",
      "_#_#_#_#\n",
      "#_#_#_#_\n",
      "_#_#_#_#\n",
      "\n"
     ]
    }
   ],
   "source": [
    "# use # and _ only once\n",
    "pattern = 4 * '#_'\n",
    "print(2 * ((pattern + '\\n') + (pattern[::-1] + '\\n')))"
   ]
  }
 ],
 "metadata": {
  "kernelspec": {
   "display_name": "Python 3",
   "language": "python",
   "name": "python3"
  },
  "language_info": {
   "codemirror_mode": {
    "name": "ipython",
    "version": 3
   },
   "file_extension": ".py",
   "mimetype": "text/x-python",
   "name": "python",
   "nbconvert_exporter": "python",
   "pygments_lexer": "ipython3",
   "version": "3.7.6"
  }
 },
 "nbformat": 4,
 "nbformat_minor": 4
}
