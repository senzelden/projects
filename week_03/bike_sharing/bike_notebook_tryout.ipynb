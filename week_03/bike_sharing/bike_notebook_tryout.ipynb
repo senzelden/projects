{
 "cells": [
  {
   "cell_type": "code",
   "execution_count": 1,
   "metadata": {},
   "outputs": [],
   "source": [
    "import pandas as pd\n",
    "import seaborn as sns\n",
    "import matplotlib.pyplot as plt"
   ]
  },
  {
   "cell_type": "markdown",
   "metadata": {},
   "source": [
    "### Read in data"
   ]
  },
  {
   "cell_type": "code",
   "execution_count": 2,
   "metadata": {},
   "outputs": [],
   "source": [
    "df = pd.read_csv(\"train.csv\", parse_dates=True, index_col=0)\n",
    "Xtest2 = pd.read_csv(\"test.csv\", parse_dates=True, index_col=0)"
   ]
  },
  {
   "cell_type": "markdown",
   "metadata": {},
   "source": [
    "datetime - hourly date + timestamp  \n",
    "season -  1 = spring, 2 = summer, 3 = fall, 4 = winter  \n",
    "holiday - whether the day is considered a holiday  \n",
    "workingday - whether the day is neither a weekend nor holiday  \n",
    "weather -  \n",
    "1: Clear, Few clouds, Partly cloudy, Partly cloudy  \n",
    "2: Mist + Cloudy, Mist + Broken clouds, Mist + Few clouds, Mist  \n",
    "3: Light Snow, Light Rain + Thunderstorm + Scattered clouds, Light Rain + Scattered clouds  \n",
    "4: Heavy Rain + Ice Pallets + Thunderstorm + Mist, Snow + Fog  \n",
    "temp - temperature in Celsius  \n",
    "atemp - \"feels like\" temperature in Celsius  \n",
    "humidity - relative humidity  \n",
    "windspeed - wind speed  \n",
    "casual - number of non-registered user rentals initiated  \n",
    "registered - number of registered user rentals initiated  \n",
    "count - number of total rentals  "
   ]
  },
  {
   "cell_type": "code",
   "execution_count": 3,
   "metadata": {},
   "outputs": [
    {
     "name": "stdout",
     "output_type": "stream",
     "text": [
      "<class 'pandas.core.frame.DataFrame'>\n",
      "DatetimeIndex: 10886 entries, 2011-01-01 00:00:00 to 2012-12-19 23:00:00\n",
      "Data columns (total 11 columns):\n",
      " #   Column      Non-Null Count  Dtype  \n",
      "---  ------      --------------  -----  \n",
      " 0   season      10886 non-null  int64  \n",
      " 1   holiday     10886 non-null  int64  \n",
      " 2   workingday  10886 non-null  int64  \n",
      " 3   weather     10886 non-null  int64  \n",
      " 4   temp        10886 non-null  float64\n",
      " 5   atemp       10886 non-null  float64\n",
      " 6   humidity    10886 non-null  int64  \n",
      " 7   windspeed   10886 non-null  float64\n",
      " 8   casual      10886 non-null  int64  \n",
      " 9   registered  10886 non-null  int64  \n",
      " 10  count       10886 non-null  int64  \n",
      "dtypes: float64(3), int64(8)\n",
      "memory usage: 1020.6 KB\n"
     ]
    }
   ],
   "source": [
    "df.info()"
   ]
  },
  {
   "cell_type": "code",
   "execution_count": 4,
   "metadata": {},
   "outputs": [
    {
     "data": {
      "text/plain": [
       "season        0\n",
       "holiday       0\n",
       "workingday    0\n",
       "weather       0\n",
       "temp          0\n",
       "atemp         0\n",
       "humidity      0\n",
       "windspeed     0\n",
       "casual        0\n",
       "registered    0\n",
       "count         0\n",
       "dtype: int64"
      ]
     },
     "execution_count": 4,
     "metadata": {},
     "output_type": "execute_result"
    }
   ],
   "source": [
    "df.isna().sum()"
   ]
  },
  {
   "cell_type": "markdown",
   "metadata": {},
   "source": [
    "# Basic EDA"
   ]
  },
  {
   "cell_type": "code",
   "execution_count": 5,
   "metadata": {},
   "outputs": [
    {
     "data": {
      "text/plain": [
       "<matplotlib.axes._subplots.AxesSubplot at 0x7fcd9fc9e1c0>"
      ]
     },
     "execution_count": 5,
     "metadata": {},
     "output_type": "execute_result"
    },
    {
     "data": {
      "image/png": "[encoded data removed]",
      "text/plain": [
       "<Figure size 1152x432 with 1 Axes>"
      ]
     },
     "metadata": {
      "needs_background": "light"
     },
     "output_type": "display_data"
    }
   ],
   "source": [
    "resampled = df.resample(\"M\").mean()\n",
    "resampled[\"count\"].plot(figsize=(16, 6))"
   ]
  },
  {
   "cell_type": "code",
   "execution_count": 6,
   "metadata": {},
   "outputs": [
    {
     "data": {
      "text/plain": [
       "Int64Index([18, 18, 18, 18, 18, 18, 18, 18, 19, 19, 19, 19, 19, 19, 19, 19, 19,\n",
       "            19, 19, 19, 19, 19, 19, 19, 19, 19, 19, 19, 19, 19, 19,  1,  1,  1,\n",
       "             1,  1,  1,  1,  1,  1,  1,  1,  1,  1,  1,  1,  1,  1,  1,  1,  1,\n",
       "             1,  1,  1,  2,  2,  2,  2,  2,  2,  2,  2,  2,  2,  2,  2,  2,  2,\n",
       "             2,  2,  2,  2,  2,  2,  2,  2,  2,  2,  3,  3,  3,  3,  3,  3,  3,\n",
       "             3,  3,  3,  3,  3,  3,  3,  3,  3,  3,  3,  3,  3,  3,  3],\n",
       "           dtype='int64', name='datetime')"
      ]
     },
     "execution_count": 6,
     "metadata": {},
     "output_type": "execute_result"
    }
   ],
   "source": [
    "# last days of every month missing\n",
    "df.index.day[400:500]"
   ]
  },
  {
   "cell_type": "code",
   "execution_count": 7,
   "metadata": {
    "scrolled": false
   },
   "outputs": [],
   "source": [
    "# shape of data\n",
    "# sns.pairplot(df)"
   ]
  },
  {
   "cell_type": "code",
   "execution_count": 8,
   "metadata": {},
   "outputs": [
    {
     "data": {
      "text/plain": [
       "<matplotlib.axes._subplots.AxesSubplot at 0x7fcd9dbef160>"
      ]
     },
     "execution_count": 8,
     "metadata": {},
     "output_type": "execute_result"
    },
    {
     "data": {
      "image/png": "[encoded data removed]",
      "text/plain": [
       "<Figure size 1008x576 with 2 Axes>"
      ]
     },
     "metadata": {
      "needs_background": "light"
     },
     "output_type": "display_data"
    }
   ],
   "source": [
    "plt.figure(figsize=(14, 8))\n",
    "sns.heatmap(df.corr().abs(), annot=True)"
   ]
  },
  {
   "cell_type": "code",
   "execution_count": 9,
   "metadata": {},
   "outputs": [
    {
     "data": {
      "text/plain": [
       "(              count\n",
       " datetime           \n",
       " 0         55.138462\n",
       " 1         33.859031\n",
       " 2         22.899554\n",
       " 3         11.757506\n",
       " 4          6.407240,\n",
       " <matplotlib.axes._subplots.AxesSubplot at 0x7fcd9d5a6c10>)"
      ]
     },
     "execution_count": 9,
     "metadata": {},
     "output_type": "execute_result"
    },
    {
     "data": {
      "image/png": "[encoded data removed]",
      "text/plain": [
       "<Figure size 432x288 with 1 Axes>"
      ]
     },
     "metadata": {
      "needs_background": "light"
     },
     "output_type": "display_data"
    }
   ],
   "source": [
    "hour = df[[\"count\"]].groupby(df.index.hour).mean()\n",
    "hour.head(), hour.plot.bar()"
   ]
  },
  {
   "cell_type": "code",
   "execution_count": 10,
   "metadata": {},
   "outputs": [
    {
     "data": {
      "text/plain": [
       "(               count\n",
       " datetime            \n",
       " 1         180.333913\n",
       " 2         183.910995\n",
       " 3         194.696335\n",
       " 4         195.705575\n",
       " 5         189.765217,\n",
       " <matplotlib.axes._subplots.AxesSubplot at 0x7fcd9d5e57f0>)"
      ]
     },
     "execution_count": 10,
     "metadata": {},
     "output_type": "execute_result"
    },
    {
     "data": {
      "image/png": "[encoded data removed]",
      "text/plain": [
       "<Figure size 432x288 with 1 Axes>"
      ]
     },
     "metadata": {
      "needs_background": "light"
     },
     "output_type": "display_data"
    }
   ],
   "source": [
    "day = df[[\"count\"]].groupby(df.index.day).mean()\n",
    "day.head(), day.plot.bar()"
   ]
  },
  {
   "cell_type": "code",
   "execution_count": 11,
   "metadata": {
    "scrolled": true
   },
   "outputs": [
    {
     "data": {
      "text/plain": [
       "(               count\n",
       " datetime            \n",
       " 1          95.072948\n",
       " 2          88.760606\n",
       " 3          98.922078\n",
       " 5         103.609195\n",
       " 6         101.551515,\n",
       " <matplotlib.axes._subplots.AxesSubplot at 0x7fcd9c23dfd0>)"
      ]
     },
     "execution_count": 11,
     "metadata": {},
     "output_type": "execute_result"
    },
    {
     "data": {
      "image/png": "[encoded data removed]",
      "text/plain": [
       "<Figure size 432x288 with 1 Axes>"
      ]
     },
     "metadata": {
      "needs_background": "light"
     },
     "output_type": "display_data"
    }
   ],
   "source": [
    "week = df[[\"count\"]].groupby(df.index.week).mean()\n",
    "week.head(), week.plot.bar()"
   ]
  },
  {
   "cell_type": "code",
   "execution_count": 12,
   "metadata": {},
   "outputs": [
    {
     "data": {
      "text/plain": [
       "(               count\n",
       " datetime            \n",
       " 1          90.366516\n",
       " 2         110.003330\n",
       " 3         148.169811\n",
       " 4         184.160616\n",
       " 5         219.459430,\n",
       " <matplotlib.axes._subplots.AxesSubplot at 0x7fcd9c15a5b0>)"
      ]
     },
     "execution_count": 12,
     "metadata": {},
     "output_type": "execute_result"
    },
    {
     "data": {
      "image/png": "[encoded data removed]",
      "text/plain": [
       "<Figure size 432x288 with 1 Axes>"
      ]
     },
     "metadata": {
      "needs_background": "light"
     },
     "output_type": "display_data"
    }
   ],
   "source": [
    "month = df[[\"count\"]].groupby(df.index.month).mean()\n",
    "month.head(), month.plot()"
   ]
  },
  {
   "cell_type": "code",
   "execution_count": 13,
   "metadata": {},
   "outputs": [
    {
     "data": {
      "text/plain": [
       "(               count\n",
       " datetime            \n",
       " 2011      144.223349\n",
       " 2012      238.560944,\n",
       " <matplotlib.axes._subplots.AxesSubplot at 0x7fcd9c0bbd60>)"
      ]
     },
     "execution_count": 13,
     "metadata": {},
     "output_type": "execute_result"
    },
    {
     "data": {
      "image/png": "[encoded data removed]",
      "text/plain": [
       "<Figure size 432x288 with 1 Axes>"
      ]
     },
     "metadata": {
      "needs_background": "light"
     },
     "output_type": "display_data"
    }
   ],
   "source": [
    "year = df[[\"count\"]].groupby(df.index.year).mean()\n",
    "year.head(), year.plot.bar()"
   ]
  },
  {
   "cell_type": "code",
   "execution_count": 14,
   "metadata": {},
   "outputs": [
    {
     "data": {
      "text/plain": [
       "(                   count\n",
       " temp                    \n",
       " (28.0, 41.0]  308.246542\n",
       " (23.0, 28.0]  224.393324\n",
       " (17.0, 23.0]  186.304057\n",
       " (13.0, 17.0]  164.068218\n",
       " (0.0, 13.0]    96.322324,\n",
       " <matplotlib.axes._subplots.AxesSubplot at 0x7fcd9c0848b0>)"
      ]
     },
     "execution_count": 14,
     "metadata": {},
     "output_type": "execute_result"
    },
    {
     "data": {
      "image/png": "[encoded data removed]",
      "text/plain": [
       "<Figure size 432x288 with 1 Axes>"
      ]
     },
     "metadata": {
      "needs_background": "light"
     },
     "output_type": "display_data"
    }
   ],
   "source": [
    "temp = (\n",
    "    df[[\"count\"]]\n",
    "    .groupby(pd.qcut(df[\"temp\"], q=5, precision=0))\n",
    "    .mean()\n",
    "    .sort_values(by=\"count\", ascending=False)\n",
    ")\n",
    "temp, temp.plot.bar()"
   ]
  },
  {
   "cell_type": "code",
   "execution_count": 15,
   "metadata": {},
   "outputs": [
    {
     "data": {
      "text/plain": [
       "(                    count\n",
       " humidity                 \n",
       " (-1.0, 44.0]   276.324054\n",
       " (44.0, 56.0]   214.597333\n",
       " (56.0, 68.0]   197.880906\n",
       " (68.0, 81.0]   152.165825\n",
       " (81.0, 100.0]  109.964286,\n",
       " <matplotlib.axes._subplots.AxesSubplot at 0x7fcd9c0757f0>)"
      ]
     },
     "execution_count": 15,
     "metadata": {},
     "output_type": "execute_result"
    },
    {
     "data": {
      "image/png": "[encoded data removed]",
      "text/plain": [
       "<Figure size 432x288 with 1 Axes>"
      ]
     },
     "metadata": {
      "needs_background": "light"
     },
     "output_type": "display_data"
    }
   ],
   "source": [
    "humidity = (\n",
    "    df[[\"count\"]]\n",
    "    .groupby(pd.qcut(df[\"humidity\"], q=5, precision=0))\n",
    "    .mean()\n",
    "    .sort_values(by=\"count\", ascending=False)\n",
    ")\n",
    "humidity, humidity.plot.bar()"
   ]
  },
  {
   "cell_type": "code",
   "execution_count": 16,
   "metadata": {},
   "outputs": [
    {
     "data": {
      "text/plain": [
       "(                   count\n",
       " windspeed               \n",
       " (15.0, 19.0]  216.291333\n",
       " (19.0, 57.0]  211.916960\n",
       " (11.0, 15.0]  206.367948\n",
       " (6.0, 11.0]   182.541576\n",
       " (-1.0, 6.0]   155.818764,\n",
       " <matplotlib.axes._subplots.AxesSubplot at 0x7fcd9dc0bf70>)"
      ]
     },
     "execution_count": 16,
     "metadata": {},
     "output_type": "execute_result"
    },
    {
     "data": {
      "image/png": "[encoded data removed]",
      "text/plain": [
       "<Figure size 432x288 with 1 Axes>"
      ]
     },
     "metadata": {
      "needs_background": "light"
     },
     "output_type": "display_data"
    }
   ],
   "source": [
    "windspeed = (\n",
    "    df[[\"count\"]]\n",
    "    .groupby(pd.qcut(df[\"windspeed\"], q=5, precision=0))\n",
    "    .mean()\n",
    "    .sort_values(by=\"count\", ascending=False)\n",
    ")\n",
    "windspeed, windspeed.plot.bar()"
   ]
  },
  {
   "cell_type": "markdown",
   "metadata": {},
   "source": [
    "# Train test split"
   ]
  },
  {
   "cell_type": "code",
   "execution_count": 17,
   "metadata": {},
   "outputs": [],
   "source": [
    "X = df.drop(\"count\", axis=1)\n",
    "y = df[\"count\"]"
   ]
  },
  {
   "cell_type": "code",
   "execution_count": 18,
   "metadata": {},
   "outputs": [],
   "source": [
    "from sklearn.model_selection import train_test_split\n",
    "\n",
    "Xtrain, Xtest, ytrain, ytest = train_test_split(X, y, random_state=1)"
   ]
  },
  {
   "cell_type": "markdown",
   "metadata": {},
   "source": [
    "# Feature Engineering"
   ]
  },
  {
   "cell_type": "markdown",
   "metadata": {},
   "source": [
    "Extraction from DatetimeIndex"
   ]
  },
  {
   "cell_type": "code",
   "execution_count": 19,
   "metadata": {},
   "outputs": [],
   "source": [
    "def datetime_extract(df, feature):\n",
    "    if feature == \"hour\":\n",
    "        extract = df.index.hour\n",
    "    elif feature == \"day\":\n",
    "        extract = df.index.day\n",
    "    elif feature == \"week\":\n",
    "        extract = df.index.week\n",
    "    elif feature == \"month\":\n",
    "        extract = df.index.month\n",
    "    elif feature == \"year\":\n",
    "        extract = df.index.year\n",
    "    return extract"
   ]
  },
  {
   "cell_type": "raw",
   "metadata": {},
   "source": [
    "### Binning"
   ]
  },
  {
   "cell_type": "code",
   "execution_count": 20,
   "metadata": {},
   "outputs": [],
   "source": [
    "def qcutting(df, col, q=5, labels=[0, 1, 2, 3, 4]):\n",
    "    slices = pd.qcut(df[col], q=q, precision=0, labels=labels)\n",
    "    bins = pd.get_dummies(slices)\n",
    "    return pd.concat([df, bins], axis=1)"
   ]
  },
  {
   "cell_type": "markdown",
   "metadata": {},
   "source": [
    "### Final Featurization"
   ]
  },
  {
   "cell_type": "markdown",
   "metadata": {},
   "source": [
    "Pick features"
   ]
  },
  {
   "cell_type": "code",
   "execution_count": 21,
   "metadata": {},
   "outputs": [],
   "source": [
    "# one hot\n",
    "datetime_features = [\"hour\", \"day\", \"week\", \"month\", \"year\"]\n",
    "# binning\n",
    "qcut_features = [\"temp\", \"humidity\", \"windspeed\"]\n",
    "qcut_labels = [\n",
    "    [\"temp_0-13\", \"temp_13-17\", \"temp_17-23\", \"temp_23-28\", \"temp_28-41\"],\n",
    "    [\"hum_0-44\", \"hum_44-56\", \"hum_56-68\", \"hum_68-81\", \"hum_81-100\"],\n",
    "    [\"wind_0-6\", \"wind_6-11\", \"wind_11-15\", \"wind_15-19\", \"wind_19-57\"],\n",
    "]"
   ]
  },
  {
   "cell_type": "code",
   "execution_count": 22,
   "metadata": {},
   "outputs": [
    {
     "name": "stderr",
     "output_type": "stream",
     "text": [
      "<ipython-input-22-77ce53ab21e0>:3: SettingWithCopyWarning: \n",
      "A value is trying to be set on a copy of a slice from a DataFrame.\n",
      "Try using .loc[row_indexer,col_indexer] = value instead\n",
      "\n",
      "See the caveats in the documentation: https://pandas.pydata.org/pandas-docs/stable/user_guide/indexing.html#returning-a-view-versus-a-copy\n",
      "  df[feat] = datetime_extract(df, feat)\n"
     ]
    }
   ],
   "source": [
    "def feature_engineering(df):\n",
    "    for feat in datetime_features:\n",
    "        df[feat] = datetime_extract(df, feat)\n",
    "    for i, feat in enumerate(qcut_features):\n",
    "        df = qcutting(df, feat, labels=qcut_labels[i])\n",
    "    return df\n",
    "\n",
    "\n",
    "Xtrain = feature_engineering(Xtrain)\n",
    "Xtest = feature_engineering(Xtest)\n",
    "Xtest2 = feature_engineering(Xtest2)"
   ]
  },
  {
   "cell_type": "code",
   "execution_count": 23,
   "metadata": {},
   "outputs": [
    {
     "data": {
      "text/html": [
       "<div>\n",
       "<style scoped>\n",
       "    .dataframe tbody tr th:only-of-type {\n",
       "        vertical-align: middle;\n",
       "    }\n",
       "\n",
       "    .dataframe tbody tr th {\n",
       "        vertical-align: top;\n",
       "    }\n",
       "\n",
       "    .dataframe thead th {\n",
       "        text-align: right;\n",
       "    }\n",
       "</style>\n",
       "<table border=\"1\" class=\"dataframe\">\n",
       "  <thead>\n",
       "    <tr style=\"text-align: right;\">\n",
       "      <th></th>\n",
       "      <th>season</th>\n",
       "      <th>holiday</th>\n",
       "      <th>workingday</th>\n",
       "      <th>weather</th>\n",
       "      <th>temp</th>\n",
       "      <th>atemp</th>\n",
       "      <th>humidity</th>\n",
       "      <th>windspeed</th>\n",
       "      <th>casual</th>\n",
       "      <th>registered</th>\n",
       "      <th>...</th>\n",
       "      <th>hum_0-44</th>\n",
       "      <th>hum_44-56</th>\n",
       "      <th>hum_56-68</th>\n",
       "      <th>hum_68-81</th>\n",
       "      <th>hum_81-100</th>\n",
       "      <th>wind_0-6</th>\n",
       "      <th>wind_6-11</th>\n",
       "      <th>wind_11-15</th>\n",
       "      <th>wind_15-19</th>\n",
       "      <th>wind_19-57</th>\n",
       "    </tr>\n",
       "    <tr>\n",
       "      <th>datetime</th>\n",
       "      <th></th>\n",
       "      <th></th>\n",
       "      <th></th>\n",
       "      <th></th>\n",
       "      <th></th>\n",
       "      <th></th>\n",
       "      <th></th>\n",
       "      <th></th>\n",
       "      <th></th>\n",
       "      <th></th>\n",
       "      <th></th>\n",
       "      <th></th>\n",
       "      <th></th>\n",
       "      <th></th>\n",
       "      <th></th>\n",
       "      <th></th>\n",
       "      <th></th>\n",
       "      <th></th>\n",
       "      <th></th>\n",
       "      <th></th>\n",
       "      <th></th>\n",
       "    </tr>\n",
       "  </thead>\n",
       "  <tbody>\n",
       "    <tr>\n",
       "      <th>2011-09-05 11:00:00</th>\n",
       "      <td>3</td>\n",
       "      <td>1</td>\n",
       "      <td>0</td>\n",
       "      <td>2</td>\n",
       "      <td>28.70</td>\n",
       "      <td>33.335</td>\n",
       "      <td>74</td>\n",
       "      <td>11.0014</td>\n",
       "      <td>101</td>\n",
       "      <td>207</td>\n",
       "      <td>...</td>\n",
       "      <td>0</td>\n",
       "      <td>0</td>\n",
       "      <td>0</td>\n",
       "      <td>1</td>\n",
       "      <td>0</td>\n",
       "      <td>0</td>\n",
       "      <td>0</td>\n",
       "      <td>1</td>\n",
       "      <td>0</td>\n",
       "      <td>0</td>\n",
       "    </tr>\n",
       "    <tr>\n",
       "      <th>2012-03-18 04:00:00</th>\n",
       "      <td>1</td>\n",
       "      <td>0</td>\n",
       "      <td>0</td>\n",
       "      <td>2</td>\n",
       "      <td>17.22</td>\n",
       "      <td>21.210</td>\n",
       "      <td>94</td>\n",
       "      <td>11.0014</td>\n",
       "      <td>6</td>\n",
       "      <td>8</td>\n",
       "      <td>...</td>\n",
       "      <td>0</td>\n",
       "      <td>0</td>\n",
       "      <td>0</td>\n",
       "      <td>0</td>\n",
       "      <td>1</td>\n",
       "      <td>0</td>\n",
       "      <td>0</td>\n",
       "      <td>1</td>\n",
       "      <td>0</td>\n",
       "      <td>0</td>\n",
       "    </tr>\n",
       "    <tr>\n",
       "      <th>2012-10-14 17:00:00</th>\n",
       "      <td>4</td>\n",
       "      <td>0</td>\n",
       "      <td>0</td>\n",
       "      <td>1</td>\n",
       "      <td>26.24</td>\n",
       "      <td>31.060</td>\n",
       "      <td>44</td>\n",
       "      <td>12.9980</td>\n",
       "      <td>193</td>\n",
       "      <td>346</td>\n",
       "      <td>...</td>\n",
       "      <td>0</td>\n",
       "      <td>1</td>\n",
       "      <td>0</td>\n",
       "      <td>0</td>\n",
       "      <td>0</td>\n",
       "      <td>0</td>\n",
       "      <td>0</td>\n",
       "      <td>1</td>\n",
       "      <td>0</td>\n",
       "      <td>0</td>\n",
       "    </tr>\n",
       "    <tr>\n",
       "      <th>2011-04-04 15:00:00</th>\n",
       "      <td>2</td>\n",
       "      <td>0</td>\n",
       "      <td>1</td>\n",
       "      <td>1</td>\n",
       "      <td>31.16</td>\n",
       "      <td>33.335</td>\n",
       "      <td>23</td>\n",
       "      <td>36.9974</td>\n",
       "      <td>47</td>\n",
       "      <td>96</td>\n",
       "      <td>...</td>\n",
       "      <td>1</td>\n",
       "      <td>0</td>\n",
       "      <td>0</td>\n",
       "      <td>0</td>\n",
       "      <td>0</td>\n",
       "      <td>0</td>\n",
       "      <td>0</td>\n",
       "      <td>0</td>\n",
       "      <td>0</td>\n",
       "      <td>1</td>\n",
       "    </tr>\n",
       "    <tr>\n",
       "      <th>2012-12-11 02:00:00</th>\n",
       "      <td>4</td>\n",
       "      <td>0</td>\n",
       "      <td>1</td>\n",
       "      <td>2</td>\n",
       "      <td>16.40</td>\n",
       "      <td>20.455</td>\n",
       "      <td>66</td>\n",
       "      <td>22.0028</td>\n",
       "      <td>0</td>\n",
       "      <td>1</td>\n",
       "      <td>...</td>\n",
       "      <td>0</td>\n",
       "      <td>0</td>\n",
       "      <td>1</td>\n",
       "      <td>0</td>\n",
       "      <td>0</td>\n",
       "      <td>0</td>\n",
       "      <td>0</td>\n",
       "      <td>0</td>\n",
       "      <td>0</td>\n",
       "      <td>1</td>\n",
       "    </tr>\n",
       "    <tr>\n",
       "      <th>...</th>\n",
       "      <td>...</td>\n",
       "      <td>...</td>\n",
       "      <td>...</td>\n",
       "      <td>...</td>\n",
       "      <td>...</td>\n",
       "      <td>...</td>\n",
       "      <td>...</td>\n",
       "      <td>...</td>\n",
       "      <td>...</td>\n",
       "      <td>...</td>\n",
       "      <td>...</td>\n",
       "      <td>...</td>\n",
       "      <td>...</td>\n",
       "      <td>...</td>\n",
       "      <td>...</td>\n",
       "      <td>...</td>\n",
       "      <td>...</td>\n",
       "      <td>...</td>\n",
       "      <td>...</td>\n",
       "      <td>...</td>\n",
       "      <td>...</td>\n",
       "    </tr>\n",
       "    <tr>\n",
       "      <th>2011-12-06 10:00:00</th>\n",
       "      <td>4</td>\n",
       "      <td>0</td>\n",
       "      <td>1</td>\n",
       "      <td>3</td>\n",
       "      <td>18.86</td>\n",
       "      <td>22.725</td>\n",
       "      <td>94</td>\n",
       "      <td>19.0012</td>\n",
       "      <td>6</td>\n",
       "      <td>44</td>\n",
       "      <td>...</td>\n",
       "      <td>0</td>\n",
       "      <td>0</td>\n",
       "      <td>0</td>\n",
       "      <td>0</td>\n",
       "      <td>1</td>\n",
       "      <td>0</td>\n",
       "      <td>0</td>\n",
       "      <td>0</td>\n",
       "      <td>1</td>\n",
       "      <td>0</td>\n",
       "    </tr>\n",
       "    <tr>\n",
       "      <th>2012-04-10 07:00:00</th>\n",
       "      <td>2</td>\n",
       "      <td>0</td>\n",
       "      <td>1</td>\n",
       "      <td>1</td>\n",
       "      <td>13.94</td>\n",
       "      <td>17.425</td>\n",
       "      <td>71</td>\n",
       "      <td>7.0015</td>\n",
       "      <td>16</td>\n",
       "      <td>368</td>\n",
       "      <td>...</td>\n",
       "      <td>0</td>\n",
       "      <td>0</td>\n",
       "      <td>0</td>\n",
       "      <td>1</td>\n",
       "      <td>0</td>\n",
       "      <td>0</td>\n",
       "      <td>1</td>\n",
       "      <td>0</td>\n",
       "      <td>0</td>\n",
       "      <td>0</td>\n",
       "    </tr>\n",
       "    <tr>\n",
       "      <th>2012-04-02 05:00:00</th>\n",
       "      <td>2</td>\n",
       "      <td>0</td>\n",
       "      <td>1</td>\n",
       "      <td>1</td>\n",
       "      <td>16.40</td>\n",
       "      <td>20.455</td>\n",
       "      <td>76</td>\n",
       "      <td>32.9975</td>\n",
       "      <td>2</td>\n",
       "      <td>22</td>\n",
       "      <td>...</td>\n",
       "      <td>0</td>\n",
       "      <td>0</td>\n",
       "      <td>0</td>\n",
       "      <td>1</td>\n",
       "      <td>0</td>\n",
       "      <td>0</td>\n",
       "      <td>0</td>\n",
       "      <td>0</td>\n",
       "      <td>0</td>\n",
       "      <td>1</td>\n",
       "    </tr>\n",
       "    <tr>\n",
       "      <th>2011-01-14 00:00:00</th>\n",
       "      <td>1</td>\n",
       "      <td>0</td>\n",
       "      <td>1</td>\n",
       "      <td>1</td>\n",
       "      <td>4.92</td>\n",
       "      <td>6.820</td>\n",
       "      <td>50</td>\n",
       "      <td>12.9980</td>\n",
       "      <td>0</td>\n",
       "      <td>14</td>\n",
       "      <td>...</td>\n",
       "      <td>0</td>\n",
       "      <td>1</td>\n",
       "      <td>0</td>\n",
       "      <td>0</td>\n",
       "      <td>0</td>\n",
       "      <td>0</td>\n",
       "      <td>0</td>\n",
       "      <td>1</td>\n",
       "      <td>0</td>\n",
       "      <td>0</td>\n",
       "    </tr>\n",
       "    <tr>\n",
       "      <th>2011-01-17 02:00:00</th>\n",
       "      <td>1</td>\n",
       "      <td>1</td>\n",
       "      <td>0</td>\n",
       "      <td>2</td>\n",
       "      <td>7.38</td>\n",
       "      <td>8.335</td>\n",
       "      <td>43</td>\n",
       "      <td>16.9979</td>\n",
       "      <td>0</td>\n",
       "      <td>8</td>\n",
       "      <td>...</td>\n",
       "      <td>1</td>\n",
       "      <td>0</td>\n",
       "      <td>0</td>\n",
       "      <td>0</td>\n",
       "      <td>0</td>\n",
       "      <td>0</td>\n",
       "      <td>0</td>\n",
       "      <td>0</td>\n",
       "      <td>1</td>\n",
       "      <td>0</td>\n",
       "    </tr>\n",
       "  </tbody>\n",
       "</table>\n",
       "<p>2722 rows × 30 columns</p>\n",
       "</div>"
      ],
      "text/plain": [
       "                     season  holiday  workingday  weather   temp   atemp  \\\n",
       "datetime                                                                   \n",
       "2011-09-05 11:00:00       3        1           0        2  28.70  33.335   \n",
       "2012-03-18 04:00:00       1        0           0        2  17.22  21.210   \n",
       "2012-10-14 17:00:00       4        0           0        1  26.24  31.060   \n",
       "2011-04-04 15:00:00       2        0           1        1  31.16  33.335   \n",
       "2012-12-11 02:00:00       4        0           1        2  16.40  20.455   \n",
       "...                     ...      ...         ...      ...    ...     ...   \n",
       "2011-12-06 10:00:00       4        0           1        3  18.86  22.725   \n",
       "2012-04-10 07:00:00       2        0           1        1  13.94  17.425   \n",
       "2012-04-02 05:00:00       2        0           1        1  16.40  20.455   \n",
       "2011-01-14 00:00:00       1        0           1        1   4.92   6.820   \n",
       "2011-01-17 02:00:00       1        1           0        2   7.38   8.335   \n",
       "\n",
       "                     humidity  windspeed  casual  registered  ...  hum_0-44  \\\n",
       "datetime                                                      ...             \n",
       "2011-09-05 11:00:00        74    11.0014     101         207  ...         0   \n",
       "2012-03-18 04:00:00        94    11.0014       6           8  ...         0   \n",
       "2012-10-14 17:00:00        44    12.9980     193         346  ...         0   \n",
       "2011-04-04 15:00:00        23    36.9974      47          96  ...         1   \n",
       "2012-12-11 02:00:00        66    22.0028       0           1  ...         0   \n",
       "...                       ...        ...     ...         ...  ...       ...   \n",
       "2011-12-06 10:00:00        94    19.0012       6          44  ...         0   \n",
       "2012-04-10 07:00:00        71     7.0015      16         368  ...         0   \n",
       "2012-04-02 05:00:00        76    32.9975       2          22  ...         0   \n",
       "2011-01-14 00:00:00        50    12.9980       0          14  ...         0   \n",
       "2011-01-17 02:00:00        43    16.9979       0           8  ...         1   \n",
       "\n",
       "                     hum_44-56  hum_56-68  hum_68-81  hum_81-100  wind_0-6  \\\n",
       "datetime                                                                     \n",
       "2011-09-05 11:00:00          0          0          1           0         0   \n",
       "2012-03-18 04:00:00          0          0          0           1         0   \n",
       "2012-10-14 17:00:00          1          0          0           0         0   \n",
       "2011-04-04 15:00:00          0          0          0           0         0   \n",
       "2012-12-11 02:00:00          0          1          0           0         0   \n",
       "...                        ...        ...        ...         ...       ...   \n",
       "2011-12-06 10:00:00          0          0          0           1         0   \n",
       "2012-04-10 07:00:00          0          0          1           0         0   \n",
       "2012-04-02 05:00:00          0          0          1           0         0   \n",
       "2011-01-14 00:00:00          1          0          0           0         0   \n",
       "2011-01-17 02:00:00          0          0          0           0         0   \n",
       "\n",
       "                     wind_6-11  wind_11-15  wind_15-19  wind_19-57  \n",
       "datetime                                                            \n",
       "2011-09-05 11:00:00          0           1           0           0  \n",
       "2012-03-18 04:00:00          0           1           0           0  \n",
       "2012-10-14 17:00:00          0           1           0           0  \n",
       "2011-04-04 15:00:00          0           0           0           1  \n",
       "2012-12-11 02:00:00          0           0           0           1  \n",
       "...                        ...         ...         ...         ...  \n",
       "2011-12-06 10:00:00          0           0           1           0  \n",
       "2012-04-10 07:00:00          1           0           0           0  \n",
       "2012-04-02 05:00:00          0           0           0           1  \n",
       "2011-01-14 00:00:00          0           1           0           0  \n",
       "2011-01-17 02:00:00          0           0           1           0  \n",
       "\n",
       "[2722 rows x 30 columns]"
      ]
     },
     "execution_count": 23,
     "metadata": {},
     "output_type": "execute_result"
    }
   ],
   "source": [
    "Xtest"
   ]
  },
  {
   "cell_type": "markdown",
   "metadata": {},
   "source": [
    "### Prepare data"
   ]
  },
  {
   "cell_type": "code",
   "execution_count": 24,
   "metadata": {},
   "outputs": [],
   "source": [
    "features = [\n",
    "    \"season\",\n",
    "    \"weather\",\n",
    "    \"hour\",\n",
    "    \"day\",\n",
    "    \"week\",\n",
    "    \"month\",\n",
    "    \"year\",\n",
    "    \"holiday\",\n",
    "    \"workingday\",\n",
    "    \"hum_0-44\",\n",
    "    \"hum_44-56\",\n",
    "    \"hum_56-68\",\n",
    "    \"hum_68-81\",\n",
    "    \"hum_81-100\",\n",
    "    \"temp_0-13\",\n",
    "    \"temp_13-17\",\n",
    "    \"temp_17-23\",\n",
    "    \"temp_23-28\",\n",
    "    \"temp_28-41\",\n",
    "    \"wind_0-6\",\n",
    "    \"wind_6-11\",\n",
    "    \"wind_11-15\",\n",
    "    \"wind_15-19\",\n",
    "    \"wind_19-57\",\n",
    "]"
   ]
  },
  {
   "cell_type": "code",
   "execution_count": 34,
   "metadata": {},
   "outputs": [],
   "source": [
    "Xtrain = Xtrain[features]\n",
    "Xtest = Xtest[features]\n",
    "Xtest2 = Xtest2[features]"
   ]
  },
  {
   "cell_type": "markdown",
   "metadata": {},
   "source": [
    "# Linear Regression Model"
   ]
  },
  {
   "cell_type": "code",
   "execution_count": 35,
   "metadata": {},
   "outputs": [],
   "source": [
    "from sklearn.linear_model import LinearRegression\n",
    "\n",
    "lr = LinearRegression()\n",
    "lr.fit(Xtrain, ytrain)\n",
    "test_predict = lr.predict(Xtest)"
   ]
  },
  {
   "cell_type": "code",
   "execution_count": 36,
   "metadata": {},
   "outputs": [
    {
     "name": "stdout",
     "output_type": "stream",
     "text": [
      "train score : 0.3898319650880445\n",
      "test score  : 0.3912749132565637\n"
     ]
    }
   ],
   "source": [
    "print(\"train score :\", lr.score(Xtrain, ytrain))\n",
    "print(\"test score  :\", lr.score(Xtest, ytest))"
   ]
  },
  {
   "cell_type": "markdown",
   "metadata": {},
   "source": [
    "# Random Forest Regressor"
   ]
  },
  {
   "cell_type": "code",
   "execution_count": 37,
   "metadata": {},
   "outputs": [
    {
     "data": {
      "text/plain": [
       "0.35107214906591894"
      ]
     },
     "execution_count": 37,
     "metadata": {},
     "output_type": "execute_result"
    }
   ],
   "source": [
    "# Loss function: root mean squared log error (for kaggle submission)\n",
    "from sklearn.metrics import make_scorer, mean_squared_log_error\n",
    "import numpy as np\n",
    "from sklearn.ensemble import RandomForestRegressor\n",
    "\n",
    "rfr = RandomForestRegressor(n_estimators=500)\n",
    "rfr.fit(Xtrain, ytrain)\n",
    "test_predict = rfr.predict(Xtest)\n",
    "kaggle_predict = rfr.predict(Xtest2)\n",
    "\n",
    "\n",
    "np.sqrt(mean_squared_log_error(test_predict, ytest))"
   ]
  },
  {
   "cell_type": "code",
   "execution_count": 41,
   "metadata": {},
   "outputs": [],
   "source": [
    "from sklearn.model_selection import GridSearchCV\n",
    "\n",
    "gridcv = GridSearchCV(\n",
    "    estimator=RandomForestRegressor(),\n",
    "    param_grid={\"n_estimators\": [10, 50, 100, 500], \"n_jobs\": [-1]},\n",
    "    scoring=\"neg_mean_squared_log_error\",\n",
    ")\n",
    "gridcv.fit(Xtrain, ytrain)\n",
    "pred = gridcv.predict(Xtest)"
   ]
  },
  {
   "cell_type": "code",
   "execution_count": 42,
   "metadata": {},
   "outputs": [
    {
     "data": {
      "text/plain": [
       "RandomForestRegressor(n_estimators=500, n_jobs=-1)"
      ]
     },
     "execution_count": 42,
     "metadata": {},
     "output_type": "execute_result"
    }
   ],
   "source": [
    "gridcv.best_estimator_"
   ]
  },
  {
   "cell_type": "code",
   "execution_count": 43,
   "metadata": {},
   "outputs": [
    {
     "data": {
      "text/html": [
       "<div>\n",
       "<style scoped>\n",
       "    .dataframe tbody tr th:only-of-type {\n",
       "        vertical-align: middle;\n",
       "    }\n",
       "\n",
       "    .dataframe tbody tr th {\n",
       "        vertical-align: top;\n",
       "    }\n",
       "\n",
       "    .dataframe thead th {\n",
       "        text-align: right;\n",
       "    }\n",
       "</style>\n",
       "<table border=\"1\" class=\"dataframe\">\n",
       "  <thead>\n",
       "    <tr style=\"text-align: right;\">\n",
       "      <th></th>\n",
       "      <th>mean_fit_time</th>\n",
       "      <th>std_fit_time</th>\n",
       "      <th>mean_score_time</th>\n",
       "      <th>std_score_time</th>\n",
       "      <th>param_n_estimators</th>\n",
       "      <th>param_n_jobs</th>\n",
       "      <th>params</th>\n",
       "      <th>split0_test_score</th>\n",
       "      <th>split1_test_score</th>\n",
       "      <th>split2_test_score</th>\n",
       "      <th>split3_test_score</th>\n",
       "      <th>split4_test_score</th>\n",
       "      <th>mean_test_score</th>\n",
       "      <th>std_test_score</th>\n",
       "      <th>rank_test_score</th>\n",
       "    </tr>\n",
       "  </thead>\n",
       "  <tbody>\n",
       "    <tr>\n",
       "      <th>0</th>\n",
       "      <td>0.337745</td>\n",
       "      <td>0.473176</td>\n",
       "      <td>0.013305</td>\n",
       "      <td>0.002238</td>\n",
       "      <td>10</td>\n",
       "      <td>-1</td>\n",
       "      <td>{'n_estimators': 10, 'n_jobs': -1}</td>\n",
       "      <td>-0.153214</td>\n",
       "      <td>-0.148868</td>\n",
       "      <td>-0.142055</td>\n",
       "      <td>-0.141280</td>\n",
       "      <td>-0.149164</td>\n",
       "      <td>-0.146916</td>\n",
       "      <td>0.004559</td>\n",
       "      <td>4</td>\n",
       "    </tr>\n",
       "    <tr>\n",
       "      <th>1</th>\n",
       "      <td>0.353096</td>\n",
       "      <td>0.020341</td>\n",
       "      <td>0.021434</td>\n",
       "      <td>0.001969</td>\n",
       "      <td>50</td>\n",
       "      <td>-1</td>\n",
       "      <td>{'n_estimators': 50, 'n_jobs': -1}</td>\n",
       "      <td>-0.141867</td>\n",
       "      <td>-0.143100</td>\n",
       "      <td>-0.128736</td>\n",
       "      <td>-0.131466</td>\n",
       "      <td>-0.147917</td>\n",
       "      <td>-0.138617</td>\n",
       "      <td>0.007293</td>\n",
       "      <td>3</td>\n",
       "    </tr>\n",
       "    <tr>\n",
       "      <th>2</th>\n",
       "      <td>0.643553</td>\n",
       "      <td>0.025709</td>\n",
       "      <td>0.031521</td>\n",
       "      <td>0.001581</td>\n",
       "      <td>100</td>\n",
       "      <td>-1</td>\n",
       "      <td>{'n_estimators': 100, 'n_jobs': -1}</td>\n",
       "      <td>-0.139650</td>\n",
       "      <td>-0.142668</td>\n",
       "      <td>-0.132064</td>\n",
       "      <td>-0.131596</td>\n",
       "      <td>-0.141517</td>\n",
       "      <td>-0.137499</td>\n",
       "      <td>0.004730</td>\n",
       "      <td>2</td>\n",
       "    </tr>\n",
       "    <tr>\n",
       "      <th>3</th>\n",
       "      <td>2.901182</td>\n",
       "      <td>0.045858</td>\n",
       "      <td>0.127525</td>\n",
       "      <td>0.005890</td>\n",
       "      <td>500</td>\n",
       "      <td>-1</td>\n",
       "      <td>{'n_estimators': 500, 'n_jobs': -1}</td>\n",
       "      <td>-0.138691</td>\n",
       "      <td>-0.141155</td>\n",
       "      <td>-0.128850</td>\n",
       "      <td>-0.130932</td>\n",
       "      <td>-0.141650</td>\n",
       "      <td>-0.136256</td>\n",
       "      <td>0.005333</td>\n",
       "      <td>1</td>\n",
       "    </tr>\n",
       "  </tbody>\n",
       "</table>\n",
       "</div>"
      ],
      "text/plain": [
       "   mean_fit_time  std_fit_time  mean_score_time  std_score_time  \\\n",
       "0       0.337745      0.473176         0.013305        0.002238   \n",
       "1       0.353096      0.020341         0.021434        0.001969   \n",
       "2       0.643553      0.025709         0.031521        0.001581   \n",
       "3       2.901182      0.045858         0.127525        0.005890   \n",
       "\n",
       "  param_n_estimators param_n_jobs                               params  \\\n",
       "0                 10           -1   {'n_estimators': 10, 'n_jobs': -1}   \n",
       "1                 50           -1   {'n_estimators': 50, 'n_jobs': -1}   \n",
       "2                100           -1  {'n_estimators': 100, 'n_jobs': -1}   \n",
       "3                500           -1  {'n_estimators': 500, 'n_jobs': -1}   \n",
       "\n",
       "   split0_test_score  split1_test_score  split2_test_score  split3_test_score  \\\n",
       "0          -0.153214          -0.148868          -0.142055          -0.141280   \n",
       "1          -0.141867          -0.143100          -0.128736          -0.131466   \n",
       "2          -0.139650          -0.142668          -0.132064          -0.131596   \n",
       "3          -0.138691          -0.141155          -0.128850          -0.130932   \n",
       "\n",
       "   split4_test_score  mean_test_score  std_test_score  rank_test_score  \n",
       "0          -0.149164        -0.146916        0.004559                4  \n",
       "1          -0.147917        -0.138617        0.007293                3  \n",
       "2          -0.141517        -0.137499        0.004730                2  \n",
       "3          -0.141650        -0.136256        0.005333                1  "
      ]
     },
     "metadata": {},
     "output_type": "display_data"
    }
   ],
   "source": [
    "# Look at the results\n",
    "results = pd.DataFrame(gridcv.cv_results_)\n",
    "display(results)"
   ]
  },
  {
   "cell_type": "markdown",
   "metadata": {},
   "source": [
    "### Save csv for submission"
   ]
  },
  {
   "cell_type": "code",
   "execution_count": 46,
   "metadata": {},
   "outputs": [
    {
     "data": {
      "text/html": [
       "<div>\n",
       "<style scoped>\n",
       "    .dataframe tbody tr th:only-of-type {\n",
       "        vertical-align: middle;\n",
       "    }\n",
       "\n",
       "    .dataframe tbody tr th {\n",
       "        vertical-align: top;\n",
       "    }\n",
       "\n",
       "    .dataframe thead th {\n",
       "        text-align: right;\n",
       "    }\n",
       "</style>\n",
       "<table border=\"1\" class=\"dataframe\">\n",
       "  <thead>\n",
       "    <tr style=\"text-align: right;\">\n",
       "      <th></th>\n",
       "      <th>datetime</th>\n",
       "      <th>count</th>\n",
       "    </tr>\n",
       "  </thead>\n",
       "  <tbody>\n",
       "    <tr>\n",
       "      <th>0</th>\n",
       "      <td>2011-01-20 00:00:00</td>\n",
       "      <td>16.026</td>\n",
       "    </tr>\n",
       "    <tr>\n",
       "      <th>1</th>\n",
       "      <td>2011-01-20 01:00:00</td>\n",
       "      <td>8.266</td>\n",
       "    </tr>\n",
       "    <tr>\n",
       "      <th>2</th>\n",
       "      <td>2011-01-20 02:00:00</td>\n",
       "      <td>3.886</td>\n",
       "    </tr>\n",
       "    <tr>\n",
       "      <th>3</th>\n",
       "      <td>2011-01-20 03:00:00</td>\n",
       "      <td>2.644</td>\n",
       "    </tr>\n",
       "    <tr>\n",
       "      <th>4</th>\n",
       "      <td>2011-01-20 04:00:00</td>\n",
       "      <td>2.562</td>\n",
       "    </tr>\n",
       "    <tr>\n",
       "      <th>...</th>\n",
       "      <td>...</td>\n",
       "      <td>...</td>\n",
       "    </tr>\n",
       "    <tr>\n",
       "      <th>6488</th>\n",
       "      <td>2012-12-31 19:00:00</td>\n",
       "      <td>254.572</td>\n",
       "    </tr>\n",
       "    <tr>\n",
       "      <th>6489</th>\n",
       "      <td>2012-12-31 20:00:00</td>\n",
       "      <td>185.120</td>\n",
       "    </tr>\n",
       "    <tr>\n",
       "      <th>6490</th>\n",
       "      <td>2012-12-31 21:00:00</td>\n",
       "      <td>110.820</td>\n",
       "    </tr>\n",
       "    <tr>\n",
       "      <th>6491</th>\n",
       "      <td>2012-12-31 22:00:00</td>\n",
       "      <td>88.608</td>\n",
       "    </tr>\n",
       "    <tr>\n",
       "      <th>6492</th>\n",
       "      <td>2012-12-31 23:00:00</td>\n",
       "      <td>66.096</td>\n",
       "    </tr>\n",
       "  </tbody>\n",
       "</table>\n",
       "<p>6493 rows × 2 columns</p>\n",
       "</div>"
      ],
      "text/plain": [
       "                datetime    count\n",
       "0    2011-01-20 00:00:00   16.026\n",
       "1    2011-01-20 01:00:00    8.266\n",
       "2    2011-01-20 02:00:00    3.886\n",
       "3    2011-01-20 03:00:00    2.644\n",
       "4    2011-01-20 04:00:00    2.562\n",
       "...                  ...      ...\n",
       "6488 2012-12-31 19:00:00  254.572\n",
       "6489 2012-12-31 20:00:00  185.120\n",
       "6490 2012-12-31 21:00:00  110.820\n",
       "6491 2012-12-31 22:00:00   88.608\n",
       "6492 2012-12-31 23:00:00   66.096\n",
       "\n",
       "[6493 rows x 2 columns]"
      ]
     },
     "execution_count": 46,
     "metadata": {},
     "output_type": "execute_result"
    }
   ],
   "source": [
    "d = {\"datetime\": Xtest2.index, \"count\": kaggle_predict}\n",
    "submission = pd.DataFrame(d)\n",
    "submission"
   ]
  },
  {
   "cell_type": "code",
   "execution_count": 47,
   "metadata": {},
   "outputs": [],
   "source": [
    "# saving to a csv file for predictions on kaggle.\n",
    "submission.to_csv(\"submission.csv\", index=False)"
   ]
  }
 ],
 "metadata": {
  "kernelspec": {
   "display_name": "Python 3",
   "language": "python",
   "name": "python3"
  },
  "language_info": {
   "codemirror_mode": {
    "name": "ipython",
    "version": 3
   },
   "file_extension": ".py",
   "mimetype": "text/x-python",
   "name": "python",
   "nbconvert_exporter": "python",
   "pygments_lexer": "ipython3",
   "version": "3.8.3"
  }
 },
 "nbformat": 4,
 "nbformat_minor": 4
}
