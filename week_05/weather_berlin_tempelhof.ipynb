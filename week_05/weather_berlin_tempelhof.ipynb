{
 "cells": [
  {
   "cell_type": "markdown",
   "metadata": {},
   "source": [
    "### Import libraries"
   ]
  },
  {
   "cell_type": "code",
   "execution_count": 1,
   "metadata": {},
   "outputs": [],
   "source": [
    "import seaborn as sns\n",
    "import pandas as pd\n",
    "import numpy as np\n",
    "import matplotlib.pyplot as plt\n",
    "\n",
    "# Set figure size to (12, 6)\n",
    "plt.rcParams['figure.figsize'] = (12,6)"
   ]
  },
  {
   "cell_type": "markdown",
   "metadata": {},
   "source": [
    "### Load the data"
   ]
  },
  {
   "cell_type": "code",
   "execution_count": 270,
   "metadata": {},
   "outputs": [
    {
     "data": {
      "text/html": [
       "<div>\n",
       "<style scoped>\n",
       "    .dataframe tbody tr th:only-of-type {\n",
       "        vertical-align: middle;\n",
       "    }\n",
       "\n",
       "    .dataframe tbody tr th {\n",
       "        vertical-align: top;\n",
       "    }\n",
       "\n",
       "    .dataframe thead th {\n",
       "        text-align: right;\n",
       "    }\n",
       "</style>\n",
       "<table border=\"1\" class=\"dataframe\">\n",
       "  <thead>\n",
       "    <tr style=\"text-align: right;\">\n",
       "      <th></th>\n",
       "      <th>SOUID</th>\n",
       "      <th>DATE</th>\n",
       "      <th>TG</th>\n",
       "      <th>Q_TG</th>\n",
       "    </tr>\n",
       "  </thead>\n",
       "  <tbody>\n",
       "    <tr>\n",
       "      <th>0</th>\n",
       "      <td>127488</td>\n",
       "      <td>18760101</td>\n",
       "      <td>22</td>\n",
       "      <td>0</td>\n",
       "    </tr>\n",
       "    <tr>\n",
       "      <th>1</th>\n",
       "      <td>127488</td>\n",
       "      <td>18760102</td>\n",
       "      <td>25</td>\n",
       "      <td>0</td>\n",
       "    </tr>\n",
       "    <tr>\n",
       "      <th>2</th>\n",
       "      <td>127488</td>\n",
       "      <td>18760103</td>\n",
       "      <td>3</td>\n",
       "      <td>0</td>\n",
       "    </tr>\n",
       "    <tr>\n",
       "      <th>3</th>\n",
       "      <td>127488</td>\n",
       "      <td>18760104</td>\n",
       "      <td>-58</td>\n",
       "      <td>0</td>\n",
       "    </tr>\n",
       "    <tr>\n",
       "      <th>4</th>\n",
       "      <td>127488</td>\n",
       "      <td>18760105</td>\n",
       "      <td>-98</td>\n",
       "      <td>0</td>\n",
       "    </tr>\n",
       "    <tr>\n",
       "      <th>...</th>\n",
       "      <td>...</td>\n",
       "      <td>...</td>\n",
       "      <td>...</td>\n",
       "      <td>...</td>\n",
       "    </tr>\n",
       "    <tr>\n",
       "      <th>52711</th>\n",
       "      <td>111448</td>\n",
       "      <td>20200426</td>\n",
       "      <td>124</td>\n",
       "      <td>0</td>\n",
       "    </tr>\n",
       "    <tr>\n",
       "      <th>52712</th>\n",
       "      <td>111448</td>\n",
       "      <td>20200427</td>\n",
       "      <td>151</td>\n",
       "      <td>0</td>\n",
       "    </tr>\n",
       "    <tr>\n",
       "      <th>52713</th>\n",
       "      <td>111448</td>\n",
       "      <td>20200428</td>\n",
       "      <td>170</td>\n",
       "      <td>0</td>\n",
       "    </tr>\n",
       "    <tr>\n",
       "      <th>52714</th>\n",
       "      <td>111448</td>\n",
       "      <td>20200429</td>\n",
       "      <td>120</td>\n",
       "      <td>0</td>\n",
       "    </tr>\n",
       "    <tr>\n",
       "      <th>52715</th>\n",
       "      <td>111448</td>\n",
       "      <td>20200430</td>\n",
       "      <td>137</td>\n",
       "      <td>0</td>\n",
       "    </tr>\n",
       "  </tbody>\n",
       "</table>\n",
       "<p>52716 rows × 4 columns</p>\n",
       "</div>"
      ],
      "text/plain": [
       "        SOUID      DATE     TG   Q_TG\n",
       "0      127488  18760101     22      0\n",
       "1      127488  18760102     25      0\n",
       "2      127488  18760103      3      0\n",
       "3      127488  18760104    -58      0\n",
       "4      127488  18760105    -98      0\n",
       "...       ...       ...    ...    ...\n",
       "52711  111448  20200426    124      0\n",
       "52712  111448  20200427    151      0\n",
       "52713  111448  20200428    170      0\n",
       "52714  111448  20200429    120      0\n",
       "52715  111448  20200430    137      0\n",
       "\n",
       "[52716 rows x 4 columns]"
      ]
     },
     "execution_count": 270,
     "metadata": {},
     "output_type": "execute_result"
    }
   ],
   "source": [
    "df = pd.read_csv('ECA_blended_custom/TG_STAID002759.txt', sep=\",\", skiprows=list(range(0,19)))\n",
    "df"
   ]
  },
  {
   "cell_type": "markdown",
   "metadata": {},
   "source": [
    "### Reformat columns and set date as index"
   ]
  },
  {
   "cell_type": "code",
   "execution_count": 271,
   "metadata": {},
   "outputs": [],
   "source": [
    "df.rename(columns=lambda x: x.strip(), inplace=True)"
   ]
  },
  {
   "cell_type": "code",
   "execution_count": 272,
   "metadata": {},
   "outputs": [],
   "source": [
    "df['TG'] = df['TG'] / 10"
   ]
  },
  {
   "cell_type": "code",
   "execution_count": 273,
   "metadata": {},
   "outputs": [],
   "source": [
    "df['DATE'] = pd.to_datetime(df['DATE'], format=\"%Y%m%d\")"
   ]
  },
  {
   "cell_type": "code",
   "execution_count": 274,
   "metadata": {},
   "outputs": [],
   "source": [
    "df.set_index('DATE', inplace=True)"
   ]
  },
  {
   "cell_type": "markdown",
   "metadata": {},
   "source": [
    "Take slice of dataframe to avoid missing values"
   ]
  },
  {
   "cell_type": "code",
   "execution_count": 275,
   "metadata": {},
   "outputs": [],
   "source": [
    "# start dataframe from first day with values after WW2\n",
    "df = df['1945-11-06':]"
   ]
  },
  {
   "cell_type": "markdown",
   "metadata": {},
   "source": [
    "Plot temperature"
   ]
  },
  {
   "cell_type": "code",
   "execution_count": 276,
   "metadata": {},
   "outputs": [
    {
     "data": {
      "image/png": "[encoded data removed]",
      "text/plain": [
       "<Figure size 864x432 with 1 Axes>"
      ]
     },
     "metadata": {
      "needs_background": "light"
     },
     "output_type": "display_data"
    }
   ],
   "source": [
    "# to check for trends: test with linear regression and look for significance?\n",
    "df['2005-11-06':].TG.plot(figsize=(12,6), title='Temperature over time')\n",
    "plt.show()"
   ]
  },
  {
   "cell_type": "code",
   "execution_count": 277,
   "metadata": {},
   "outputs": [
    {
     "name": "stderr",
     "output_type": "stream",
     "text": [
      "<ipython-input-277-35911543a9fc>:1: SettingWithCopyWarning: \n",
      "A value is trying to be set on a copy of a slice from a DataFrame.\n",
      "Try using .loc[row_indexer,col_indexer] = value instead\n",
      "\n",
      "See the caveats in the documentation: https://pandas.pydata.org/pandas-docs/stable/user_guide/indexing.html#returning-a-view-versus-a-copy\n",
      "  df['difference'] = df['TG'].diff()\n"
     ]
    },
    {
     "data": {
      "text/html": [
       "<div>\n",
       "<style scoped>\n",
       "    .dataframe tbody tr th:only-of-type {\n",
       "        vertical-align: middle;\n",
       "    }\n",
       "\n",
       "    .dataframe tbody tr th {\n",
       "        vertical-align: top;\n",
       "    }\n",
       "\n",
       "    .dataframe thead th {\n",
       "        text-align: right;\n",
       "    }\n",
       "</style>\n",
       "<table border=\"1\" class=\"dataframe\">\n",
       "  <thead>\n",
       "    <tr style=\"text-align: right;\">\n",
       "      <th></th>\n",
       "      <th>SOUID</th>\n",
       "      <th>TG</th>\n",
       "      <th>Q_TG</th>\n",
       "      <th>difference</th>\n",
       "    </tr>\n",
       "    <tr>\n",
       "      <th>DATE</th>\n",
       "      <th></th>\n",
       "      <th></th>\n",
       "      <th></th>\n",
       "      <th></th>\n",
       "    </tr>\n",
       "  </thead>\n",
       "  <tbody>\n",
       "    <tr>\n",
       "      <th>1945-11-06</th>\n",
       "      <td>127488</td>\n",
       "      <td>7.8</td>\n",
       "      <td>0</td>\n",
       "      <td>NaN</td>\n",
       "    </tr>\n",
       "    <tr>\n",
       "      <th>1945-11-07</th>\n",
       "      <td>127488</td>\n",
       "      <td>6.8</td>\n",
       "      <td>0</td>\n",
       "      <td>-1.0</td>\n",
       "    </tr>\n",
       "    <tr>\n",
       "      <th>1945-11-08</th>\n",
       "      <td>127488</td>\n",
       "      <td>6.4</td>\n",
       "      <td>0</td>\n",
       "      <td>-0.4</td>\n",
       "    </tr>\n",
       "    <tr>\n",
       "      <th>1945-11-09</th>\n",
       "      <td>127488</td>\n",
       "      <td>4.0</td>\n",
       "      <td>0</td>\n",
       "      <td>-2.4</td>\n",
       "    </tr>\n",
       "    <tr>\n",
       "      <th>1945-11-10</th>\n",
       "      <td>127488</td>\n",
       "      <td>4.6</td>\n",
       "      <td>0</td>\n",
       "      <td>0.6</td>\n",
       "    </tr>\n",
       "  </tbody>\n",
       "</table>\n",
       "</div>"
      ],
      "text/plain": [
       "             SOUID   TG  Q_TG  difference\n",
       "DATE                                     \n",
       "1945-11-06  127488  7.8     0         NaN\n",
       "1945-11-07  127488  6.8     0        -1.0\n",
       "1945-11-08  127488  6.4     0        -0.4\n",
       "1945-11-09  127488  4.0     0        -2.4\n",
       "1945-11-10  127488  4.6     0         0.6"
      ]
     },
     "execution_count": 277,
     "metadata": {},
     "output_type": "execute_result"
    }
   ],
   "source": [
    "df['difference'] = df['TG'].diff()\n",
    "df.head()"
   ]
  },
  {
   "cell_type": "code",
   "execution_count": 285,
   "metadata": {},
   "outputs": [
    {
     "data": {
      "text/plain": [
       "<matplotlib.axes._subplots.AxesSubplot at 0x7fe69f9fc8b0>"
      ]
     },
     "execution_count": 285,
     "metadata": {},
     "output_type": "execute_result"
    },
    {
     "data": {
      "image/png": "[encoded data removed]",
      "text/plain": [
       "<Figure size 432x288 with 1 Axes>"
      ]
     },
     "metadata": {
      "needs_background": "light"
     },
     "output_type": "display_data"
    }
   ],
   "source": [
    "df['difference'].plot()"
   ]
  },
  {
   "cell_type": "code",
   "execution_count": 279,
   "metadata": {},
   "outputs": [
    {
     "data": {
      "text/plain": [
       "0.00021687987060726318"
      ]
     },
     "execution_count": 279,
     "metadata": {},
     "output_type": "execute_result"
    }
   ],
   "source": [
    "df['difference'].mean()"
   ]
  },
  {
   "cell_type": "code",
   "execution_count": 280,
   "metadata": {},
   "outputs": [
    {
     "name": "stderr",
     "output_type": "stream",
     "text": [
      "<ipython-input-280-fd311462d84a>:2: SettingWithCopyWarning: \n",
      "A value is trying to be set on a copy of a slice from a DataFrame.\n",
      "Try using .loc[row_indexer,col_indexer] = value instead\n",
      "\n",
      "See the caveats in the documentation: https://pandas.pydata.org/pandas-docs/stable/user_guide/indexing.html#returning-a-view-versus-a-copy\n",
      "  df['2nddifference'] = df['difference'].diff()\n"
     ]
    },
    {
     "data": {
      "text/html": [
       "<div>\n",
       "<style scoped>\n",
       "    .dataframe tbody tr th:only-of-type {\n",
       "        vertical-align: middle;\n",
       "    }\n",
       "\n",
       "    .dataframe tbody tr th {\n",
       "        vertical-align: top;\n",
       "    }\n",
       "\n",
       "    .dataframe thead th {\n",
       "        text-align: right;\n",
       "    }\n",
       "</style>\n",
       "<table border=\"1\" class=\"dataframe\">\n",
       "  <thead>\n",
       "    <tr style=\"text-align: right;\">\n",
       "      <th></th>\n",
       "      <th>SOUID</th>\n",
       "      <th>TG</th>\n",
       "      <th>Q_TG</th>\n",
       "      <th>difference</th>\n",
       "      <th>2nddifference</th>\n",
       "    </tr>\n",
       "    <tr>\n",
       "      <th>DATE</th>\n",
       "      <th></th>\n",
       "      <th></th>\n",
       "      <th></th>\n",
       "      <th></th>\n",
       "      <th></th>\n",
       "    </tr>\n",
       "  </thead>\n",
       "  <tbody>\n",
       "    <tr>\n",
       "      <th>1945-11-06</th>\n",
       "      <td>127488</td>\n",
       "      <td>7.8</td>\n",
       "      <td>0</td>\n",
       "      <td>NaN</td>\n",
       "      <td>NaN</td>\n",
       "    </tr>\n",
       "    <tr>\n",
       "      <th>1945-11-07</th>\n",
       "      <td>127488</td>\n",
       "      <td>6.8</td>\n",
       "      <td>0</td>\n",
       "      <td>-1.0</td>\n",
       "      <td>NaN</td>\n",
       "    </tr>\n",
       "    <tr>\n",
       "      <th>1945-11-08</th>\n",
       "      <td>127488</td>\n",
       "      <td>6.4</td>\n",
       "      <td>0</td>\n",
       "      <td>-0.4</td>\n",
       "      <td>0.6</td>\n",
       "    </tr>\n",
       "    <tr>\n",
       "      <th>1945-11-09</th>\n",
       "      <td>127488</td>\n",
       "      <td>4.0</td>\n",
       "      <td>0</td>\n",
       "      <td>-2.4</td>\n",
       "      <td>-2.0</td>\n",
       "    </tr>\n",
       "    <tr>\n",
       "      <th>1945-11-10</th>\n",
       "      <td>127488</td>\n",
       "      <td>4.6</td>\n",
       "      <td>0</td>\n",
       "      <td>0.6</td>\n",
       "      <td>3.0</td>\n",
       "    </tr>\n",
       "  </tbody>\n",
       "</table>\n",
       "</div>"
      ],
      "text/plain": [
       "             SOUID   TG  Q_TG  difference  2nddifference\n",
       "DATE                                                    \n",
       "1945-11-06  127488  7.8     0         NaN            NaN\n",
       "1945-11-07  127488  6.8     0        -1.0            NaN\n",
       "1945-11-08  127488  6.4     0        -0.4            0.6\n",
       "1945-11-09  127488  4.0     0        -2.4           -2.0\n",
       "1945-11-10  127488  4.6     0         0.6            3.0"
      ]
     },
     "execution_count": 280,
     "metadata": {},
     "output_type": "execute_result"
    }
   ],
   "source": [
    "# How does second order differencing work?\n",
    "df['2nddifference'] = df['difference'].diff()\n",
    "df.head()"
   ]
  },
  {
   "cell_type": "code",
   "execution_count": 281,
   "metadata": {},
   "outputs": [
    {
     "data": {
      "text/plain": [
       "<matplotlib.axes._subplots.AxesSubplot at 0x7fe69fbf17c0>"
      ]
     },
     "execution_count": 281,
     "metadata": {},
     "output_type": "execute_result"
    },
    {
     "data": {
      "image/png": "[encoded data removed]",
      "text/plain": [
       "<Figure size 864x432 with 1 Axes>"
      ]
     },
     "metadata": {
      "needs_background": "light"
     },
     "output_type": "display_data"
    }
   ],
   "source": [
    "df['2nddifference'].plot(figsize=(12,6), title='Change in changes of temperature from t-1 to t')"
   ]
  },
  {
   "cell_type": "code",
   "execution_count": 282,
   "metadata": {},
   "outputs": [
    {
     "data": {
      "text/plain": [
       "9.925375877660964e-05"
      ]
     },
     "execution_count": 282,
     "metadata": {},
     "output_type": "execute_result"
    }
   ],
   "source": [
    "df['2nddifference'].mean() # if close to 0 than trend probably linear"
   ]
  },
  {
   "cell_type": "code",
   "execution_count": 283,
   "metadata": {
    "scrolled": true
   },
   "outputs": [
    {
     "name": "stderr",
     "output_type": "stream",
     "text": [
      "<ipython-input-283-d1cb42a2beec>:1: SettingWithCopyWarning: \n",
      "A value is trying to be set on a copy of a slice from a DataFrame.\n",
      "Try using .loc[row_indexer,col_indexer] = value instead\n",
      "\n",
      "See the caveats in the documentation: https://pandas.pydata.org/pandas-docs/stable/user_guide/indexing.html#returning-a-view-versus-a-copy\n",
      "  df['day_of_year'] = df.index.dayofyear\n"
     ]
    }
   ],
   "source": [
    "df['day_of_year'] = df.index.dayofyear"
   ]
  },
  {
   "cell_type": "code",
   "execution_count": 287,
   "metadata": {},
   "outputs": [
    {
     "data": {
      "text/plain": [
       "day_of_year\n",
       "1     -0.008000\n",
       "2      0.422667\n",
       "3     -0.116000\n",
       "4     -0.413333\n",
       "5      0.048000\n",
       "         ...   \n",
       "362    0.020000\n",
       "363   -0.696000\n",
       "364   -0.509333\n",
       "365   -0.408000\n",
       "366    0.594444\n",
       "Name: difference, Length: 366, dtype: float64"
      ]
     },
     "execution_count": 287,
     "metadata": {},
     "output_type": "execute_result"
    }
   ],
   "source": [
    "# calculate the monthly mean difference of the log transformed passenger numbers\n",
    "df.groupby('day_of_year')['difference'].mean()"
   ]
  },
  {
   "cell_type": "code",
   "execution_count": 288,
   "metadata": {},
   "outputs": [
    {
     "name": "stderr",
     "output_type": "stream",
     "text": [
      "<ipython-input-288-ddc8d1f63ccf>:2: SettingWithCopyWarning: \n",
      "A value is trying to be set on a copy of a slice from a DataFrame.\n",
      "Try using .loc[row_indexer,col_indexer] = value instead\n",
      "\n",
      "See the caveats in the documentation: https://pandas.pydata.org/pandas-docs/stable/user_guide/indexing.html#returning-a-view-versus-a-copy\n",
      "  df['daily_mean'] = df.groupby('day_of_year')['difference'].transform('mean')\n"
     ]
    },
    {
     "data": {
      "text/html": [
       "<div>\n",
       "<style scoped>\n",
       "    .dataframe tbody tr th:only-of-type {\n",
       "        vertical-align: middle;\n",
       "    }\n",
       "\n",
       "    .dataframe tbody tr th {\n",
       "        vertical-align: top;\n",
       "    }\n",
       "\n",
       "    .dataframe thead th {\n",
       "        text-align: right;\n",
       "    }\n",
       "</style>\n",
       "<table border=\"1\" class=\"dataframe\">\n",
       "  <thead>\n",
       "    <tr style=\"text-align: right;\">\n",
       "      <th></th>\n",
       "      <th>SOUID</th>\n",
       "      <th>TG</th>\n",
       "      <th>Q_TG</th>\n",
       "      <th>difference</th>\n",
       "      <th>2nddifference</th>\n",
       "      <th>day_of_year</th>\n",
       "      <th>daily_mean</th>\n",
       "    </tr>\n",
       "    <tr>\n",
       "      <th>DATE</th>\n",
       "      <th></th>\n",
       "      <th></th>\n",
       "      <th></th>\n",
       "      <th></th>\n",
       "      <th></th>\n",
       "      <th></th>\n",
       "      <th></th>\n",
       "    </tr>\n",
       "  </thead>\n",
       "  <tbody>\n",
       "    <tr>\n",
       "      <th>1945-11-06</th>\n",
       "      <td>127488</td>\n",
       "      <td>7.8</td>\n",
       "      <td>0</td>\n",
       "      <td>NaN</td>\n",
       "      <td>NaN</td>\n",
       "      <td>310</td>\n",
       "      <td>-0.266216</td>\n",
       "    </tr>\n",
       "    <tr>\n",
       "      <th>1945-11-07</th>\n",
       "      <td>127488</td>\n",
       "      <td>6.8</td>\n",
       "      <td>0</td>\n",
       "      <td>-1.0</td>\n",
       "      <td>NaN</td>\n",
       "      <td>311</td>\n",
       "      <td>-0.256000</td>\n",
       "    </tr>\n",
       "    <tr>\n",
       "      <th>1945-11-08</th>\n",
       "      <td>127488</td>\n",
       "      <td>6.4</td>\n",
       "      <td>0</td>\n",
       "      <td>-0.4</td>\n",
       "      <td>0.6</td>\n",
       "      <td>312</td>\n",
       "      <td>-0.165333</td>\n",
       "    </tr>\n",
       "    <tr>\n",
       "      <th>1945-11-09</th>\n",
       "      <td>127488</td>\n",
       "      <td>4.0</td>\n",
       "      <td>0</td>\n",
       "      <td>-2.4</td>\n",
       "      <td>-2.0</td>\n",
       "      <td>313</td>\n",
       "      <td>-0.308000</td>\n",
       "    </tr>\n",
       "    <tr>\n",
       "      <th>1945-11-10</th>\n",
       "      <td>127488</td>\n",
       "      <td>4.6</td>\n",
       "      <td>0</td>\n",
       "      <td>0.6</td>\n",
       "      <td>3.0</td>\n",
       "      <td>314</td>\n",
       "      <td>-0.376000</td>\n",
       "    </tr>\n",
       "  </tbody>\n",
       "</table>\n",
       "</div>"
      ],
      "text/plain": [
       "             SOUID   TG  Q_TG  difference  2nddifference  day_of_year  \\\n",
       "DATE                                                                    \n",
       "1945-11-06  127488  7.8     0         NaN            NaN          310   \n",
       "1945-11-07  127488  6.8     0        -1.0            NaN          311   \n",
       "1945-11-08  127488  6.4     0        -0.4            0.6          312   \n",
       "1945-11-09  127488  4.0     0        -2.4           -2.0          313   \n",
       "1945-11-10  127488  4.6     0         0.6            3.0          314   \n",
       "\n",
       "            daily_mean  \n",
       "DATE                    \n",
       "1945-11-06   -0.266216  \n",
       "1945-11-07   -0.256000  \n",
       "1945-11-08   -0.165333  \n",
       "1945-11-09   -0.308000  \n",
       "1945-11-10   -0.376000  "
      ]
     },
     "execution_count": 288,
     "metadata": {},
     "output_type": "execute_result"
    }
   ],
   "source": [
    "# Transform takes in a pd.Series and returns an array of the same length\n",
    "df['daily_mean'] = df.groupby('day_of_year')['difference'].transform('mean')\n",
    "df.head()"
   ]
  },
  {
   "cell_type": "code",
   "execution_count": 289,
   "metadata": {},
   "outputs": [
    {
     "name": "stderr",
     "output_type": "stream",
     "text": [
      "<ipython-input-289-b83160bd26d7>:2: SettingWithCopyWarning: \n",
      "A value is trying to be set on a copy of a slice from a DataFrame.\n",
      "Try using .loc[row_indexer,col_indexer] = value instead\n",
      "\n",
      "See the caveats in the documentation: https://pandas.pydata.org/pandas-docs/stable/user_guide/indexing.html#returning-a-view-versus-a-copy\n",
      "  df['deseasonalized'] = df['difference'] - df['daily_mean']\n"
     ]
    }
   ],
   "source": [
    "# demean the series\n",
    "df['deseasonalized'] = df['difference'] - df['daily_mean']"
   ]
  },
  {
   "cell_type": "code",
   "execution_count": 290,
   "metadata": {},
   "outputs": [
    {
     "data": {
      "text/plain": [
       "<matplotlib.axes._subplots.AxesSubplot at 0x7fe69e75f0a0>"
      ]
     },
     "execution_count": 290,
     "metadata": {},
     "output_type": "execute_result"
    },
    {
     "data": {
      "image/png": "[encoded data removed]",
      "text/plain": [
       "<Figure size 864x432 with 1 Axes>"
      ]
     },
     "metadata": {
      "needs_background": "light"
     },
     "output_type": "display_data"
    }
   ],
   "source": [
    "df['deseasonalized'].plot(figsize=(12,6), title='Deseasonalized differences in the temperature')"
   ]
  },
  {
   "cell_type": "markdown",
   "metadata": {},
   "source": [
    "### Naive forecasting"
   ]
  },
  {
   "cell_type": "code",
   "execution_count": 291,
   "metadata": {},
   "outputs": [
    {
     "data": {
      "text/html": [
       "<div>\n",
       "<style scoped>\n",
       "    .dataframe tbody tr th:only-of-type {\n",
       "        vertical-align: middle;\n",
       "    }\n",
       "\n",
       "    .dataframe tbody tr th {\n",
       "        vertical-align: top;\n",
       "    }\n",
       "\n",
       "    .dataframe thead th {\n",
       "        text-align: right;\n",
       "    }\n",
       "</style>\n",
       "<table border=\"1\" class=\"dataframe\">\n",
       "  <thead>\n",
       "    <tr style=\"text-align: right;\">\n",
       "      <th></th>\n",
       "      <th>DATE</th>\n",
       "      <th>SOUID</th>\n",
       "      <th>TG</th>\n",
       "      <th>Q_TG</th>\n",
       "      <th>difference</th>\n",
       "      <th>2nddifference</th>\n",
       "      <th>day_of_year</th>\n",
       "      <th>daily_mean</th>\n",
       "      <th>deseasonalized</th>\n",
       "    </tr>\n",
       "  </thead>\n",
       "  <tbody>\n",
       "    <tr>\n",
       "      <th>27143</th>\n",
       "      <td>2020-02-29</td>\n",
       "      <td>111448</td>\n",
       "      <td>6.8</td>\n",
       "      <td>0</td>\n",
       "      <td>2.9</td>\n",
       "      <td>2.5</td>\n",
       "      <td>60</td>\n",
       "      <td>-0.001333</td>\n",
       "      <td>2.901333</td>\n",
       "    </tr>\n",
       "    <tr>\n",
       "      <th>27144</th>\n",
       "      <td>2020-03-01</td>\n",
       "      <td>111448</td>\n",
       "      <td>7.1</td>\n",
       "      <td>0</td>\n",
       "      <td>0.3</td>\n",
       "      <td>-2.6</td>\n",
       "      <td>61</td>\n",
       "      <td>-0.197333</td>\n",
       "      <td>0.497333</td>\n",
       "    </tr>\n",
       "    <tr>\n",
       "      <th>27145</th>\n",
       "      <td>2020-03-02</td>\n",
       "      <td>111448</td>\n",
       "      <td>5.9</td>\n",
       "      <td>0</td>\n",
       "      <td>-1.2</td>\n",
       "      <td>-1.5</td>\n",
       "      <td>62</td>\n",
       "      <td>0.188000</td>\n",
       "      <td>-1.388000</td>\n",
       "    </tr>\n",
       "    <tr>\n",
       "      <th>27146</th>\n",
       "      <td>2020-03-03</td>\n",
       "      <td>111448</td>\n",
       "      <td>4.8</td>\n",
       "      <td>0</td>\n",
       "      <td>-1.1</td>\n",
       "      <td>0.1</td>\n",
       "      <td>63</td>\n",
       "      <td>0.381333</td>\n",
       "      <td>-1.481333</td>\n",
       "    </tr>\n",
       "    <tr>\n",
       "      <th>27147</th>\n",
       "      <td>2020-03-04</td>\n",
       "      <td>111448</td>\n",
       "      <td>4.8</td>\n",
       "      <td>0</td>\n",
       "      <td>0.0</td>\n",
       "      <td>1.1</td>\n",
       "      <td>64</td>\n",
       "      <td>0.153333</td>\n",
       "      <td>-0.153333</td>\n",
       "    </tr>\n",
       "    <tr>\n",
       "      <th>...</th>\n",
       "      <td>...</td>\n",
       "      <td>...</td>\n",
       "      <td>...</td>\n",
       "      <td>...</td>\n",
       "      <td>...</td>\n",
       "      <td>...</td>\n",
       "      <td>...</td>\n",
       "      <td>...</td>\n",
       "      <td>...</td>\n",
       "    </tr>\n",
       "    <tr>\n",
       "      <th>27200</th>\n",
       "      <td>2020-04-26</td>\n",
       "      <td>111448</td>\n",
       "      <td>12.4</td>\n",
       "      <td>0</td>\n",
       "      <td>1.5</td>\n",
       "      <td>5.1</td>\n",
       "      <td>117</td>\n",
       "      <td>-0.513333</td>\n",
       "      <td>2.013333</td>\n",
       "    </tr>\n",
       "    <tr>\n",
       "      <th>27201</th>\n",
       "      <td>2020-04-27</td>\n",
       "      <td>111448</td>\n",
       "      <td>15.1</td>\n",
       "      <td>0</td>\n",
       "      <td>2.7</td>\n",
       "      <td>1.2</td>\n",
       "      <td>118</td>\n",
       "      <td>0.404000</td>\n",
       "      <td>2.296000</td>\n",
       "    </tr>\n",
       "    <tr>\n",
       "      <th>27202</th>\n",
       "      <td>2020-04-28</td>\n",
       "      <td>111448</td>\n",
       "      <td>17.0</td>\n",
       "      <td>0</td>\n",
       "      <td>1.9</td>\n",
       "      <td>-0.8</td>\n",
       "      <td>119</td>\n",
       "      <td>0.570667</td>\n",
       "      <td>1.329333</td>\n",
       "    </tr>\n",
       "    <tr>\n",
       "      <th>27203</th>\n",
       "      <td>2020-04-29</td>\n",
       "      <td>111448</td>\n",
       "      <td>12.0</td>\n",
       "      <td>0</td>\n",
       "      <td>-5.0</td>\n",
       "      <td>-6.9</td>\n",
       "      <td>120</td>\n",
       "      <td>0.349333</td>\n",
       "      <td>-5.349333</td>\n",
       "    </tr>\n",
       "    <tr>\n",
       "      <th>27204</th>\n",
       "      <td>2020-04-30</td>\n",
       "      <td>111448</td>\n",
       "      <td>13.7</td>\n",
       "      <td>0</td>\n",
       "      <td>1.7</td>\n",
       "      <td>6.7</td>\n",
       "      <td>121</td>\n",
       "      <td>0.297333</td>\n",
       "      <td>1.402667</td>\n",
       "    </tr>\n",
       "  </tbody>\n",
       "</table>\n",
       "<p>62 rows × 9 columns</p>\n",
       "</div>"
      ],
      "text/plain": [
       "            DATE   SOUID    TG  Q_TG  difference  2nddifference  day_of_year  \\\n",
       "27143 2020-02-29  111448   6.8     0         2.9            2.5           60   \n",
       "27144 2020-03-01  111448   7.1     0         0.3           -2.6           61   \n",
       "27145 2020-03-02  111448   5.9     0        -1.2           -1.5           62   \n",
       "27146 2020-03-03  111448   4.8     0        -1.1            0.1           63   \n",
       "27147 2020-03-04  111448   4.8     0         0.0            1.1           64   \n",
       "...          ...     ...   ...   ...         ...            ...          ...   \n",
       "27200 2020-04-26  111448  12.4     0         1.5            5.1          117   \n",
       "27201 2020-04-27  111448  15.1     0         2.7            1.2          118   \n",
       "27202 2020-04-28  111448  17.0     0         1.9           -0.8          119   \n",
       "27203 2020-04-29  111448  12.0     0        -5.0           -6.9          120   \n",
       "27204 2020-04-30  111448  13.7     0         1.7            6.7          121   \n",
       "\n",
       "       daily_mean  deseasonalized  \n",
       "27143   -0.001333        2.901333  \n",
       "27144   -0.197333        0.497333  \n",
       "27145    0.188000       -1.388000  \n",
       "27146    0.381333       -1.481333  \n",
       "27147    0.153333       -0.153333  \n",
       "...           ...             ...  \n",
       "27200   -0.513333        2.013333  \n",
       "27201    0.404000        2.296000  \n",
       "27202    0.570667        1.329333  \n",
       "27203    0.349333       -5.349333  \n",
       "27204    0.297333        1.402667  \n",
       "\n",
       "[62 rows x 9 columns]"
      ]
     },
     "execution_count": 291,
     "metadata": {},
     "output_type": "execute_result"
    }
   ],
   "source": [
    "df.reset_index()[-62:]"
   ]
  },
  {
   "cell_type": "code",
   "execution_count": 292,
   "metadata": {},
   "outputs": [],
   "source": [
    "df.reset_index(inplace=True)"
   ]
  },
  {
   "cell_type": "code",
   "execution_count": 293,
   "metadata": {},
   "outputs": [
    {
     "data": {
      "text/html": [
       "<div>\n",
       "<style scoped>\n",
       "    .dataframe tbody tr th:only-of-type {\n",
       "        vertical-align: middle;\n",
       "    }\n",
       "\n",
       "    .dataframe tbody tr th {\n",
       "        vertical-align: top;\n",
       "    }\n",
       "\n",
       "    .dataframe thead th {\n",
       "        text-align: right;\n",
       "    }\n",
       "</style>\n",
       "<table border=\"1\" class=\"dataframe\">\n",
       "  <thead>\n",
       "    <tr style=\"text-align: right;\">\n",
       "      <th></th>\n",
       "      <th>DATE</th>\n",
       "      <th>SOUID</th>\n",
       "      <th>TG</th>\n",
       "      <th>Q_TG</th>\n",
       "      <th>difference</th>\n",
       "      <th>2nddifference</th>\n",
       "      <th>day_of_year</th>\n",
       "      <th>daily_mean</th>\n",
       "      <th>deseasonalized</th>\n",
       "    </tr>\n",
       "  </thead>\n",
       "  <tbody>\n",
       "    <tr>\n",
       "      <th>0</th>\n",
       "      <td>1945-11-06</td>\n",
       "      <td>127488</td>\n",
       "      <td>7.8</td>\n",
       "      <td>0</td>\n",
       "      <td>NaN</td>\n",
       "      <td>NaN</td>\n",
       "      <td>310</td>\n",
       "      <td>-0.266216</td>\n",
       "      <td>NaN</td>\n",
       "    </tr>\n",
       "    <tr>\n",
       "      <th>1</th>\n",
       "      <td>1945-11-07</td>\n",
       "      <td>127488</td>\n",
       "      <td>6.8</td>\n",
       "      <td>0</td>\n",
       "      <td>-1.0</td>\n",
       "      <td>NaN</td>\n",
       "      <td>311</td>\n",
       "      <td>-0.256000</td>\n",
       "      <td>-0.744000</td>\n",
       "    </tr>\n",
       "    <tr>\n",
       "      <th>2</th>\n",
       "      <td>1945-11-08</td>\n",
       "      <td>127488</td>\n",
       "      <td>6.4</td>\n",
       "      <td>0</td>\n",
       "      <td>-0.4</td>\n",
       "      <td>0.6</td>\n",
       "      <td>312</td>\n",
       "      <td>-0.165333</td>\n",
       "      <td>-0.234667</td>\n",
       "    </tr>\n",
       "    <tr>\n",
       "      <th>3</th>\n",
       "      <td>1945-11-09</td>\n",
       "      <td>127488</td>\n",
       "      <td>4.0</td>\n",
       "      <td>0</td>\n",
       "      <td>-2.4</td>\n",
       "      <td>-2.0</td>\n",
       "      <td>313</td>\n",
       "      <td>-0.308000</td>\n",
       "      <td>-2.092000</td>\n",
       "    </tr>\n",
       "    <tr>\n",
       "      <th>4</th>\n",
       "      <td>1945-11-10</td>\n",
       "      <td>127488</td>\n",
       "      <td>4.6</td>\n",
       "      <td>0</td>\n",
       "      <td>0.6</td>\n",
       "      <td>3.0</td>\n",
       "      <td>314</td>\n",
       "      <td>-0.376000</td>\n",
       "      <td>0.976000</td>\n",
       "    </tr>\n",
       "    <tr>\n",
       "      <th>...</th>\n",
       "      <td>...</td>\n",
       "      <td>...</td>\n",
       "      <td>...</td>\n",
       "      <td>...</td>\n",
       "      <td>...</td>\n",
       "      <td>...</td>\n",
       "      <td>...</td>\n",
       "      <td>...</td>\n",
       "      <td>...</td>\n",
       "    </tr>\n",
       "    <tr>\n",
       "      <th>27200</th>\n",
       "      <td>2020-04-26</td>\n",
       "      <td>111448</td>\n",
       "      <td>12.4</td>\n",
       "      <td>0</td>\n",
       "      <td>1.5</td>\n",
       "      <td>5.1</td>\n",
       "      <td>117</td>\n",
       "      <td>-0.513333</td>\n",
       "      <td>2.013333</td>\n",
       "    </tr>\n",
       "    <tr>\n",
       "      <th>27201</th>\n",
       "      <td>2020-04-27</td>\n",
       "      <td>111448</td>\n",
       "      <td>15.1</td>\n",
       "      <td>0</td>\n",
       "      <td>2.7</td>\n",
       "      <td>1.2</td>\n",
       "      <td>118</td>\n",
       "      <td>0.404000</td>\n",
       "      <td>2.296000</td>\n",
       "    </tr>\n",
       "    <tr>\n",
       "      <th>27202</th>\n",
       "      <td>2020-04-28</td>\n",
       "      <td>111448</td>\n",
       "      <td>17.0</td>\n",
       "      <td>0</td>\n",
       "      <td>1.9</td>\n",
       "      <td>-0.8</td>\n",
       "      <td>119</td>\n",
       "      <td>0.570667</td>\n",
       "      <td>1.329333</td>\n",
       "    </tr>\n",
       "    <tr>\n",
       "      <th>27203</th>\n",
       "      <td>2020-04-29</td>\n",
       "      <td>111448</td>\n",
       "      <td>12.0</td>\n",
       "      <td>0</td>\n",
       "      <td>-5.0</td>\n",
       "      <td>-6.9</td>\n",
       "      <td>120</td>\n",
       "      <td>0.349333</td>\n",
       "      <td>-5.349333</td>\n",
       "    </tr>\n",
       "    <tr>\n",
       "      <th>27204</th>\n",
       "      <td>2020-04-30</td>\n",
       "      <td>111448</td>\n",
       "      <td>13.7</td>\n",
       "      <td>0</td>\n",
       "      <td>1.7</td>\n",
       "      <td>6.7</td>\n",
       "      <td>121</td>\n",
       "      <td>0.297333</td>\n",
       "      <td>1.402667</td>\n",
       "    </tr>\n",
       "  </tbody>\n",
       "</table>\n",
       "<p>27186 rows × 9 columns</p>\n",
       "</div>"
      ],
      "text/plain": [
       "            DATE   SOUID    TG  Q_TG  difference  2nddifference  day_of_year  \\\n",
       "0     1945-11-06  127488   7.8     0         NaN            NaN          310   \n",
       "1     1945-11-07  127488   6.8     0        -1.0            NaN          311   \n",
       "2     1945-11-08  127488   6.4     0        -0.4            0.6          312   \n",
       "3     1945-11-09  127488   4.0     0        -2.4           -2.0          313   \n",
       "4     1945-11-10  127488   4.6     0         0.6            3.0          314   \n",
       "...          ...     ...   ...   ...         ...            ...          ...   \n",
       "27200 2020-04-26  111448  12.4     0         1.5            5.1          117   \n",
       "27201 2020-04-27  111448  15.1     0         2.7            1.2          118   \n",
       "27202 2020-04-28  111448  17.0     0         1.9           -0.8          119   \n",
       "27203 2020-04-29  111448  12.0     0        -5.0           -6.9          120   \n",
       "27204 2020-04-30  111448  13.7     0         1.7            6.7          121   \n",
       "\n",
       "       daily_mean  deseasonalized  \n",
       "0       -0.266216             NaN  \n",
       "1       -0.256000       -0.744000  \n",
       "2       -0.165333       -0.234667  \n",
       "3       -0.308000       -2.092000  \n",
       "4       -0.376000        0.976000  \n",
       "...           ...             ...  \n",
       "27200   -0.513333        2.013333  \n",
       "27201    0.404000        2.296000  \n",
       "27202    0.570667        1.329333  \n",
       "27203    0.349333       -5.349333  \n",
       "27204    0.297333        1.402667  \n",
       "\n",
       "[27186 rows x 9 columns]"
      ]
     },
     "execution_count": 293,
     "metadata": {},
     "output_type": "execute_result"
    }
   ],
   "source": [
    "df.drop(df.index[845::1461])"
   ]
  },
  {
   "cell_type": "markdown",
   "metadata": {},
   "source": [
    "Train-test-split"
   ]
  },
  {
   "cell_type": "code",
   "execution_count": 294,
   "metadata": {},
   "outputs": [],
   "source": [
    "xtrain = df.reset_index().index.tolist()[:-365]\n",
    "xtest = df.reset_index().index.tolist()[-365:]\n",
    "ytrain = df['deseasonalized'].tolist()[:-365]\n",
    "ytrain[0] = 0\n",
    "ytest = df['deseasonalized'].tolist()[-365:]"
   ]
  },
  {
   "cell_type": "code",
   "execution_count": 295,
   "metadata": {},
   "outputs": [],
   "source": [
    "# remove February 29 from training data to make calculation of daily mean easier\n",
    "# index 845 = 29.02.1948\n",
    "# number of days between extra days = 1461\n",
    "# index -62 = 29.02.2020\n",
    "del ytrain[845::1461]\n",
    "del xtrain[845::1461]\n",
    "del ytest[-62]\n",
    "del xtest[-62]"
   ]
  },
  {
   "cell_type": "markdown",
   "metadata": {},
   "source": [
    "### 1. Forecast the last value seen"
   ]
  },
  {
   "cell_type": "code",
   "execution_count": 296,
   "metadata": {},
   "outputs": [],
   "source": [
    "ypred_last = ytrain[-1:] * len(xtest)"
   ]
  },
  {
   "cell_type": "markdown",
   "metadata": {},
   "source": [
    "### 2. Forecast the mean"
   ]
  },
  {
   "cell_type": "code",
   "execution_count": 297,
   "metadata": {},
   "outputs": [],
   "source": [
    "mean = sum(ytrain) / len(ytrain)\n",
    "ypred_mean = [mean] * len(xtest) "
   ]
  },
  {
   "cell_type": "markdown",
   "metadata": {},
   "source": [
    "### 3. Seasonal mean"
   ]
  },
  {
   "cell_type": "code",
   "execution_count": 298,
   "metadata": {},
   "outputs": [],
   "source": [
    "ypred_sm = []\n",
    "for i, j in enumerate(xtest):\n",
    "    leap = i % 4\n",
    "    day = i % 365\n",
    "    daily_mean = sum(ytrain[day::365]) / len(ytrain[day::365])\n",
    "    ypred_sm.append(daily_mean)"
   ]
  },
  {
   "cell_type": "code",
   "execution_count": 299,
   "metadata": {},
   "outputs": [
    {
     "data": {
      "text/plain": [
       "[<matplotlib.lines.Line2D at 0x7fe69ff25700>]"
      ]
     },
     "execution_count": 299,
     "metadata": {},
     "output_type": "execute_result"
    },
    {
     "data": {
      "image/png": "[encoded data removed]",
      "text/plain": [
       "<Figure size 432x288 with 1 Axes>"
      ]
     },
     "metadata": {
      "needs_background": "light"
     },
     "output_type": "display_data"
    }
   ],
   "source": [
    "from matplotlib import pyplot as plt\n",
    "%matplotlib inline\n",
    "\n",
    "plt.plot(xtrain[-10:], ytrain[-10:], 'b-')\n",
    "plt.plot(xtest, ytest, 'r-')\n",
    "plt.plot(xtest, ypred_last, 'g-')\n",
    "plt.plot(xtest, ypred_mean, 'k-')\n",
    "plt.plot(xtest, ypred_sm, 'y-')"
   ]
  },
  {
   "cell_type": "markdown",
   "metadata": {},
   "source": [
    "### Ridge Regression"
   ]
  },
  {
   "cell_type": "code",
   "execution_count": null,
   "metadata": {},
   "outputs": [],
   "source": [
    "# think about pandas .is_leap_year to find a better solution for the problem"
   ]
  },
  {
   "cell_type": "code",
   "execution_count": 300,
   "metadata": {},
   "outputs": [],
   "source": [
    "df365 = df.drop(df.index[845::1461])"
   ]
  },
  {
   "cell_type": "code",
   "execution_count": 301,
   "metadata": {},
   "outputs": [],
   "source": [
    "df365['day_of_year'] = df365['DATE'].dt.dayofyear"
   ]
  },
  {
   "cell_type": "code",
   "execution_count": 302,
   "metadata": {},
   "outputs": [],
   "source": [
    "xtrain = df365[['day_of_year']][:-365]\n",
    "xtest = df365[['day_of_year']][-365:]\n",
    "ytrain = df365['deseasonalized'][:-365]\n",
    "ytrain[0] = 0\n",
    "ytest = df365['deseasonalized'][-365:]"
   ]
  },
  {
   "cell_type": "code",
   "execution_count": 303,
   "metadata": {},
   "outputs": [
    {
     "data": {
      "text/plain": [
       "(2.440383994883888e-08, -5.994419415955576e-06)"
      ]
     },
     "execution_count": 303,
     "metadata": {},
     "output_type": "execute_result"
    }
   ],
   "source": [
    "from sklearn.linear_model import Ridge\n",
    "\n",
    "model = Ridge()\n",
    "model.fit(xtrain, ytrain)\n",
    "model.score(xtrain, ytrain), model.score(xtest, ytest)"
   ]
  },
  {
   "cell_type": "code",
   "execution_count": 304,
   "metadata": {},
   "outputs": [],
   "source": [
    "ypred = model.predict(xtest)"
   ]
  },
  {
   "cell_type": "code",
   "execution_count": 305,
   "metadata": {},
   "outputs": [
    {
     "data": {
      "text/plain": [
       "[<matplotlib.lines.Line2D at 0x7fe69dfed6d0>]"
      ]
     },
     "execution_count": 305,
     "metadata": {},
     "output_type": "execute_result"
    },
    {
     "data": {
      "image/png": "[encoded data removed]",
      "text/plain": [
       "<Figure size 432x288 with 1 Axes>"
      ]
     },
     "metadata": {
      "needs_background": "light"
     },
     "output_type": "display_data"
    }
   ],
   "source": [
    "plt.plot(xtrain[-10:], ytrain[-10:], 'b-')\n",
    "plt.plot(xtest, ytest, 'r-')\n",
    "plt.plot(xtest, ypred, 'g-')"
   ]
  },
  {
   "cell_type": "code",
   "execution_count": null,
   "metadata": {},
   "outputs": [],
   "source": []
  }
 ],
 "metadata": {
  "kernelspec": {
   "display_name": "Python 3",
   "language": "python",
   "name": "python3"
  },
  "language_info": {
   "codemirror_mode": {
    "name": "ipython",
    "version": 3
   },
   "file_extension": ".py",
   "mimetype": "text/x-python",
   "name": "python",
   "nbconvert_exporter": "python",
   "pygments_lexer": "ipython3",
   "version": "3.8.3"
  }
 },
 "nbformat": 4,
 "nbformat_minor": 4
}
