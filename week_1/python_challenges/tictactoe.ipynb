{
 "cells": [
  {
   "cell_type": "markdown",
   "metadata": {},
   "source": [
    "### Tic-tac-toe\n",
    "Write a function that determines which player has three symbols in a row (or whether it is a draw)."
   ]
  },
  {
   "cell_type": "code",
   "execution_count": 1,
   "metadata": {},
   "outputs": [],
   "source": [
    "ttt = [['X', 'O', 'X'],\n",
    "       ['.', 'O', 'O'],\n",
    "       ['X', 'O', 'O']]"
   ]
  },
  {
   "cell_type": "code",
   "execution_count": 2,
   "metadata": {},
   "outputs": [],
   "source": [
    "ttt_big = [['X', 'O', 'X', 'O'],\n",
    "           ['.', 'X', 'O', 'O'],\n",
    "           ['O', 'X', 'X', 'O'],\n",
    "           ['X', '.', 'X', '.']]"
   ]
  },
  {
   "cell_type": "code",
   "execution_count": 3,
   "metadata": {},
   "outputs": [],
   "source": [
    "def is_finished(board):\n",
    "    \n",
    "    LENGTH = len(board)\n",
    "    x_line = ['X'] * LENGTH\n",
    "    o_line = ['O'] * LENGTH\n",
    "    indices_range = range(LENGTH)\n",
    "    \n",
    "    # Search through each row, if three times 'X' or 'O'\n",
    "    def is_finished_row():\n",
    "        for row_index in indices_range:\n",
    "            if board[row_index] == x_line:\n",
    "                return 'X'\n",
    "            elif board[row_index] == o_line:\n",
    "                return 'O'\n",
    "        return False\n",
    "\n",
    "    \n",
    "    # Search through each col, if three times 'X' or 'O'\n",
    "    def is_finished_col():\n",
    "        for col_index in indices_range:\n",
    "            col = []\n",
    "            for row_index in indices_range:\n",
    "                col.append(board[row_index][col_index])\n",
    "            if col == x_line:\n",
    "                return 'X'\n",
    "            elif col == o_line:\n",
    "                return 'O'\n",
    "        return False\n",
    "\n",
    "    \n",
    "    # Search through both diagonals, if three times 'X' or 'O'\n",
    "    def is_finished_diagonal():\n",
    "        diag_1 = []\n",
    "        diag_2 = []\n",
    "        for row_index in indices_range:\n",
    "            diag_1.append(board[row_index][row_index])\n",
    "            diag_2.append(board[row_index][-1 - row_index])\n",
    "        if diag_1 == x_line or diag_2 == x_line:\n",
    "            return 'X'\n",
    "        elif diag_2 == o_line or diag_2 == o_line:\n",
    "            return 'O'\n",
    "        return False\n",
    "\n",
    "    # Look, if an additional move is possible\n",
    "    def not_finished():\n",
    "        for row_index in indices_range:\n",
    "            if '.' in board[row_index]:\n",
    "                return True\n",
    "        return False\n",
    "    \n",
    "    # if three 'X' or 'O' found return winner\n",
    "    if is_finished_row() == 'X' or is_finished_col() == 'X' or is_finished_diagonal() == 'X':\n",
    "        return 'X has won.'\n",
    "    elif is_finished_row() == 'O' or is_finished_col() == 'O' or is_finished_diagonal() == 'O':\n",
    "        return 'O has won.'\n",
    "    # elif no winner and moves still possible, inform that game not finished yet\n",
    "    elif not_finished() == True:\n",
    "        return 'Game is not finished.'\n",
    "    # if no winner and no more moves possible, declare a draw\n",
    "    return 'It\\'s a draw.'\n",
    "    "
   ]
  },
  {
   "cell_type": "code",
   "execution_count": 4,
   "metadata": {},
   "outputs": [
    {
     "data": {
      "text/plain": [
       "'Game is not finished.'"
      ]
     },
     "execution_count": 4,
     "metadata": {},
     "output_type": "execute_result"
    }
   ],
   "source": [
    "is_finished(ttt_big)"
   ]
  },
  {
   "cell_type": "code",
   "execution_count": 5,
   "metadata": {},
   "outputs": [
    {
     "data": {
      "text/plain": [
       "range(0, 3)"
      ]
     },
     "execution_count": 5,
     "metadata": {},
     "output_type": "execute_result"
    }
   ],
   "source": [
    "range(len(ttt))"
   ]
  }
 ],
 "metadata": {
  "kernelspec": {
   "display_name": "Python 3",
   "language": "python",
   "name": "python3"
  },
  "language_info": {
   "codemirror_mode": {
    "name": "ipython",
    "version": 3
   },
   "file_extension": ".py",
   "mimetype": "text/x-python",
   "name": "python",
   "nbconvert_exporter": "python",
   "pygments_lexer": "ipython3",
   "version": "3.7.6"
  }
 },
 "nbformat": 4,
 "nbformat_minor": 4
}
