{
 "cells": [
  {
   "cell_type": "code",
   "execution_count": 1,
   "metadata": {},
   "outputs": [],
   "source": [
    "import pandas as pd"
   ]
  },
  {
   "cell_type": "code",
   "execution_count": 2,
   "metadata": {},
   "outputs": [
    {
     "name": "stdout",
     "output_type": "stream",
     "text": [
      "   shop1  shop2 location\n",
      "A      0     10      BER\n",
      "B      1     15      BER\n",
      "C      2     20      BER\n",
      "D      3     25      BER\n",
      "E      4     30      HAM\n",
      "F      5     35      HAM\n",
      "G      6     40      HAM\n",
      "H      7     45      HAM\n"
     ]
    }
   ],
   "source": [
    "df = pd.DataFrame({'shop1': range(8), 'shop2': range(10, 50, 5), 'location': ['BER'] * 4 + ['HAM'] * 4}, index=list(\"ABCDEFGH\"))\n",
    "print(df)"
   ]
  },
  {
   "cell_type": "code",
   "execution_count": 6,
   "metadata": {},
   "outputs": [
    {
     "name": "stdout",
     "output_type": "stream",
     "text": [
      "   shop1  shop2 location\n",
      "A      0     10   Berlin\n",
      "B      1     15   Berlin\n",
      "C      2     20   Berlin\n",
      "D      3     25   Berlin\n",
      "E      4     30  Hamburg\n",
      "F      5     35  Hamburg\n",
      "G      6     40  Hamburg\n",
      "H      7     45  Hamburg\n"
     ]
    },
    {
     "data": {
      "text/html": [
       "<div>\n",
       "<style scoped>\n",
       "    .dataframe tbody tr th:only-of-type {\n",
       "        vertical-align: middle;\n",
       "    }\n",
       "\n",
       "    .dataframe tbody tr th {\n",
       "        vertical-align: top;\n",
       "    }\n",
       "\n",
       "    .dataframe thead th {\n",
       "        text-align: right;\n",
       "    }\n",
       "</style>\n",
       "<table border=\"1\" class=\"dataframe\">\n",
       "  <thead>\n",
       "    <tr style=\"text-align: right;\">\n",
       "      <th></th>\n",
       "      <th>shop1</th>\n",
       "      <th>shop2</th>\n",
       "      <th>location</th>\n",
       "    </tr>\n",
       "  </thead>\n",
       "  <tbody>\n",
       "    <tr>\n",
       "      <th>A</th>\n",
       "      <td>0</td>\n",
       "      <td>10</td>\n",
       "      <td>Berlin</td>\n",
       "    </tr>\n",
       "    <tr>\n",
       "      <th>B</th>\n",
       "      <td>1</td>\n",
       "      <td>15</td>\n",
       "      <td>Berlin</td>\n",
       "    </tr>\n",
       "    <tr>\n",
       "      <th>C</th>\n",
       "      <td>2</td>\n",
       "      <td>20</td>\n",
       "      <td>Berlin</td>\n",
       "    </tr>\n",
       "    <tr>\n",
       "      <th>D</th>\n",
       "      <td>3</td>\n",
       "      <td>25</td>\n",
       "      <td>Berlin</td>\n",
       "    </tr>\n",
       "    <tr>\n",
       "      <th>E</th>\n",
       "      <td>4</td>\n",
       "      <td>30</td>\n",
       "      <td>Hamburg</td>\n",
       "    </tr>\n",
       "    <tr>\n",
       "      <th>F</th>\n",
       "      <td>5</td>\n",
       "      <td>35</td>\n",
       "      <td>Hamburg</td>\n",
       "    </tr>\n",
       "    <tr>\n",
       "      <th>G</th>\n",
       "      <td>6</td>\n",
       "      <td>40</td>\n",
       "      <td>Hamburg</td>\n",
       "    </tr>\n",
       "    <tr>\n",
       "      <th>H</th>\n",
       "      <td>7</td>\n",
       "      <td>45</td>\n",
       "      <td>Hamburg</td>\n",
       "    </tr>\n",
       "  </tbody>\n",
       "</table>\n",
       "</div>"
      ],
      "text/plain": [
       "   shop1  shop2 location\n",
       "A      0     10   Berlin\n",
       "B      1     15   Berlin\n",
       "C      2     20   Berlin\n",
       "D      3     25   Berlin\n",
       "E      4     30  Hamburg\n",
       "F      5     35  Hamburg\n",
       "G      6     40  Hamburg\n",
       "H      7     45  Hamburg"
      ]
     },
     "execution_count": 6,
     "metadata": {},
     "output_type": "execute_result"
    }
   ],
   "source": [
    "# 2. Now simplify the following pieces of code\n",
    "#    so that the result is equivalent\n",
    "#    - run the code\n",
    "#    - inspect the result\n",
    "#    - replace it by a pandas function (one line should be enough)\n",
    "\n",
    "# 2.1\n",
    "for i, row in df.iterrows():\n",
    "    if row['location'] == 'BER':\n",
    "        df.loc[i, 'location'] = 'Berlin'\n",
    "    if row['location'] == 'HAM':\n",
    "        df.loc[i, 'location'] = 'Hamburg'\n",
    "print(df)\n",
    "\n",
    "# or specify with .replace (inplace=True)\n",
    "df.rename({'BER': 'Berlin', 'HAM': 'Hamburg'})"
   ]
  },
  {
   "cell_type": "code",
   "execution_count": 10,
   "metadata": {},
   "outputs": [
    {
     "data": {
      "text/html": [
       "<div>\n",
       "<style scoped>\n",
       "    .dataframe tbody tr th:only-of-type {\n",
       "        vertical-align: middle;\n",
       "    }\n",
       "\n",
       "    .dataframe tbody tr th {\n",
       "        vertical-align: top;\n",
       "    }\n",
       "\n",
       "    .dataframe thead th {\n",
       "        text-align: right;\n",
       "    }\n",
       "</style>\n",
       "<table border=\"1\" class=\"dataframe\">\n",
       "  <thead>\n",
       "    <tr style=\"text-align: right;\">\n",
       "      <th></th>\n",
       "      <th>shop1</th>\n",
       "      <th>shop2</th>\n",
       "      <th>location</th>\n",
       "    </tr>\n",
       "  </thead>\n",
       "  <tbody>\n",
       "    <tr>\n",
       "      <th>D</th>\n",
       "      <td>3</td>\n",
       "      <td>25</td>\n",
       "      <td>Berlin</td>\n",
       "    </tr>\n",
       "    <tr>\n",
       "      <th>E</th>\n",
       "      <td>4</td>\n",
       "      <td>30</td>\n",
       "      <td>Hamburg</td>\n",
       "    </tr>\n",
       "    <tr>\n",
       "      <th>F</th>\n",
       "      <td>5</td>\n",
       "      <td>35</td>\n",
       "      <td>Hamburg</td>\n",
       "    </tr>\n",
       "    <tr>\n",
       "      <th>G</th>\n",
       "      <td>6</td>\n",
       "      <td>40</td>\n",
       "      <td>Hamburg</td>\n",
       "    </tr>\n",
       "    <tr>\n",
       "      <th>H</th>\n",
       "      <td>7</td>\n",
       "      <td>45</td>\n",
       "      <td>Hamburg</td>\n",
       "    </tr>\n",
       "  </tbody>\n",
       "</table>\n",
       "</div>"
      ],
      "text/plain": [
       "   shop1  shop2 location\n",
       "D      3     25   Berlin\n",
       "E      4     30  Hamburg\n",
       "F      5     35  Hamburg\n",
       "G      6     40  Hamburg\n",
       "H      7     45  Hamburg"
      ]
     },
     "execution_count": 10,
     "metadata": {},
     "output_type": "execute_result"
    }
   ],
   "source": [
    "# 2.2\n",
    "result = []\n",
    "for i, row in df.iterrows():\n",
    "    if row['shop2'] > 20:\n",
    "        result.append(i)\n",
    "df.loc[result]\n",
    "\n",
    "df.loc[df.shop2 > 20]"
   ]
  },
  {
   "cell_type": "code",
   "execution_count": 24,
   "metadata": {},
   "outputs": [
    {
     "data": {
      "text/plain": [
       "[10, 16, 22, 28, 34, 40, 46, 52]"
      ]
     },
     "execution_count": 24,
     "metadata": {},
     "output_type": "execute_result"
    }
   ],
   "source": [
    "# 2.3\n",
    "# result = []\n",
    "# for i, row in df.iterrows():\n",
    "#     total =  row['shop1'] + row['shop2']\n",
    "#     result.append(total)\n",
    "# result\n",
    "\n",
    "result = df.sum(axis=1).values.tolist()\n",
    "result"
   ]
  },
  {
   "cell_type": "code",
   "execution_count": 20,
   "metadata": {},
   "outputs": [
    {
     "data": {
      "text/plain": [
       "location\n",
       "Berlin     1.5\n",
       "Hamburg    5.5\n",
       "Name: shop1, dtype: float64"
      ]
     },
     "execution_count": 20,
     "metadata": {},
     "output_type": "execute_result"
    }
   ],
   "source": [
    "# 2.4\n",
    "# subsets = {}\n",
    "# for i, row in df.iterrows():\n",
    "#     if row['location'] not in subsets:\n",
    "#         subsets[row['location']] = []\n",
    "#     subsets[row['location']].append(row['shop1'])\n",
    "# for loc in subsets:\n",
    "#     avg = sum(subsets[loc]) / len(subsets[loc])\n",
    "#     print(loc, avg)\n",
    "df.groupby(['location'])['shop1'].mean()"
   ]
  },
  {
   "cell_type": "code",
   "execution_count": null,
   "metadata": {},
   "outputs": [],
   "source": []
  }
 ],
 "metadata": {
  "kernelspec": {
   "display_name": "Python 3",
   "language": "python",
   "name": "python3"
  },
  "language_info": {
   "codemirror_mode": {
    "name": "ipython",
    "version": 3
   },
   "file_extension": ".py",
   "mimetype": "text/x-python",
   "name": "python",
   "nbconvert_exporter": "python",
   "pygments_lexer": "ipython3",
   "version": "3.8.2"
  }
 },
 "nbformat": 4,
 "nbformat_minor": 4
}
